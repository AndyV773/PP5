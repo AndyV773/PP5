{
  "cells": [
    {
      "cell_type": "markdown",
      "metadata": {
        "id": "0aStgWSO0E0E"
      },
      "source": [
        "# **Data Collection**"
      ]
    },
    {
      "cell_type": "markdown",
      "metadata": {
        "id": "1eLEkw5O0ECa"
      },
      "source": [
        "## Objectives\n",
        "\n",
        "* Fetch data from yahoo finance and save as raw data\n",
        "* Inspect the data and save it under outputs/datasets/collection\n",
        "\n",
        "## Inputs\n",
        "\n",
        "* Write here which data or information you need to run the notebook \n",
        "\n",
        "## Outputs\n",
        "\n",
        "* Generate Dataset: outputs/datasets/collection/phnx_2015_2025.csv\n",
        "\n",
        "## Additional Comments\n",
        "\n",
        "* I converted all the feature names to lowercase for ease of use \n"
      ]
    },
    {
      "cell_type": "markdown",
      "metadata": {
        "id": "9uWZXH9LwoQg"
      },
      "source": [
        "---"
      ]
    },
    {
      "cell_type": "markdown",
      "metadata": {
        "id": "cqP-UeN-z3i2"
      },
      "source": [
        "# Change working directory"
      ]
    },
    {
      "cell_type": "markdown",
      "metadata": {},
      "source": [
        "* We are assuming you will store the notebooks in a subfolder, therefore when running the notebook in the editor, you will need to change the working directory"
      ]
    },
    {
      "cell_type": "markdown",
      "metadata": {
        "id": "aOGIGS-uz3i2"
      },
      "source": [
        "We need to change the working directory from its current folder to its parent folder\n",
        "* We access the current directory with os.getcwd()"
      ]
    },
    {
      "cell_type": "code",
      "execution_count": 1,
      "metadata": {
        "id": "wZfF_j-Bz3i4",
        "outputId": "66943449-1436-4c3d-85c7-b85f9f78349b"
      },
      "outputs": [
        {
          "data": {
            "text/plain": [
              "'c:\\\\Users\\\\ajv10\\\\Documents\\\\vscode-projects\\\\PP5\\\\jupyter_notebooks'"
            ]
          },
          "execution_count": 1,
          "metadata": {},
          "output_type": "execute_result"
        }
      ],
      "source": [
        "import os\n",
        "current_dir = os.getcwd()\n",
        "current_dir"
      ]
    },
    {
      "cell_type": "markdown",
      "metadata": {
        "id": "9MWW8E7lz3i7"
      },
      "source": [
        "We want to make the parent of the current directory the new current directory\n",
        "* os.path.dirname() gets the parent directory\n",
        "* os.chir() defines the new current directory"
      ]
    },
    {
      "cell_type": "code",
      "execution_count": 2,
      "metadata": {
        "id": "TwHsQRWjz3i9",
        "outputId": "86849db3-cd2f-4cc5-ebb8-2d0caafa1a2c"
      },
      "outputs": [
        {
          "name": "stdout",
          "output_type": "stream",
          "text": [
            "You set a new current directory\n"
          ]
        }
      ],
      "source": [
        "os.chdir(os.path.dirname(current_dir))\n",
        "print(\"You set a new current directory\")"
      ]
    },
    {
      "cell_type": "markdown",
      "metadata": {
        "id": "M_xPk_Ijz3i-"
      },
      "source": [
        "Confirm the new current directory"
      ]
    },
    {
      "cell_type": "code",
      "execution_count": 3,
      "metadata": {
        "id": "vz3S-_kjz3jA",
        "outputId": "00b79ae4-75d0-4a96-d193-ac9ef9847ea2"
      },
      "outputs": [
        {
          "data": {
            "text/plain": [
              "'c:\\\\Users\\\\ajv10\\\\Documents\\\\vscode-projects\\\\PP5'"
            ]
          },
          "execution_count": 3,
          "metadata": {},
          "output_type": "execute_result"
        }
      ],
      "source": [
        "current_dir = os.getcwd()\n",
        "current_dir"
      ]
    },
    {
      "cell_type": "markdown",
      "metadata": {},
      "source": [
        "---"
      ]
    },
    {
      "cell_type": "markdown",
      "metadata": {
        "id": "-mavJ8DibrcQ"
      },
      "source": [
        "## Fetch Data "
      ]
    },
    {
      "cell_type": "markdown",
      "metadata": {},
      "source": [
        "Install yahoo finance"
      ]
    },
    {
      "cell_type": "code",
      "execution_count": 4,
      "metadata": {},
      "outputs": [
        {
          "name": "stdout",
          "output_type": "stream",
          "text": [
            "Requirement already satisfied: yfinance==0.2.56 in c:\\users\\ajv10\\appdata\\local\\programs\\python\\python312\\lib\\site-packages (0.2.56)\n",
            "Requirement already satisfied: pandas>=1.3.0 in c:\\users\\ajv10\\appdata\\local\\programs\\python\\python312\\lib\\site-packages (from yfinance==0.2.56) (2.2.3)\n",
            "Requirement already satisfied: numpy>=1.16.5 in c:\\users\\ajv10\\appdata\\local\\programs\\python\\python312\\lib\\site-packages (from yfinance==0.2.56) (1.26.1)\n",
            "Requirement already satisfied: requests>=2.31 in c:\\users\\ajv10\\appdata\\local\\programs\\python\\python312\\lib\\site-packages (from yfinance==0.2.56) (2.32.3)\n",
            "Requirement already satisfied: multitasking>=0.0.7 in c:\\users\\ajv10\\appdata\\local\\programs\\python\\python312\\lib\\site-packages (from yfinance==0.2.56) (0.0.11)\n",
            "Requirement already satisfied: platformdirs>=2.0.0 in c:\\users\\ajv10\\appdata\\roaming\\python\\python312\\site-packages (from yfinance==0.2.56) (4.3.7)\n",
            "Requirement already satisfied: pytz>=2022.5 in c:\\users\\ajv10\\appdata\\local\\programs\\python\\python312\\lib\\site-packages (from yfinance==0.2.56) (2025.2)\n",
            "Requirement already satisfied: frozendict>=2.3.4 in c:\\users\\ajv10\\appdata\\local\\programs\\python\\python312\\lib\\site-packages (from yfinance==0.2.56) (2.4.6)\n",
            "Requirement already satisfied: peewee>=3.16.2 in c:\\users\\ajv10\\appdata\\local\\programs\\python\\python312\\lib\\site-packages (from yfinance==0.2.56) (3.17.9)\n",
            "Requirement already satisfied: beautifulsoup4>=4.11.1 in c:\\users\\ajv10\\appdata\\local\\programs\\python\\python312\\lib\\site-packages (from yfinance==0.2.56) (4.13.4)\n",
            "Requirement already satisfied: soupsieve>1.2 in c:\\users\\ajv10\\appdata\\local\\programs\\python\\python312\\lib\\site-packages (from beautifulsoup4>=4.11.1->yfinance==0.2.56) (2.7)\n",
            "Requirement already satisfied: typing-extensions>=4.0.0 in c:\\users\\ajv10\\appdata\\local\\programs\\python\\python312\\lib\\site-packages (from beautifulsoup4>=4.11.1->yfinance==0.2.56) (4.13.2)\n",
            "Requirement already satisfied: python-dateutil>=2.8.2 in c:\\users\\ajv10\\appdata\\roaming\\python\\python312\\site-packages (from pandas>=1.3.0->yfinance==0.2.56) (2.9.0.post0)\n",
            "Requirement already satisfied: tzdata>=2022.7 in c:\\users\\ajv10\\appdata\\local\\programs\\python\\python312\\lib\\site-packages (from pandas>=1.3.0->yfinance==0.2.56) (2025.2)\n",
            "Requirement already satisfied: charset-normalizer<4,>=2 in c:\\users\\ajv10\\appdata\\local\\programs\\python\\python312\\lib\\site-packages (from requests>=2.31->yfinance==0.2.56) (3.4.1)\n",
            "Requirement already satisfied: idna<4,>=2.5 in c:\\users\\ajv10\\appdata\\local\\programs\\python\\python312\\lib\\site-packages (from requests>=2.31->yfinance==0.2.56) (3.10)\n",
            "Requirement already satisfied: urllib3<3,>=1.21.1 in c:\\users\\ajv10\\appdata\\local\\programs\\python\\python312\\lib\\site-packages (from requests>=2.31->yfinance==0.2.56) (2.4.0)\n",
            "Requirement already satisfied: certifi>=2017.4.17 in c:\\users\\ajv10\\appdata\\local\\programs\\python\\python312\\lib\\site-packages (from requests>=2.31->yfinance==0.2.56) (2025.1.31)\n",
            "Requirement already satisfied: six>=1.5 in c:\\users\\ajv10\\appdata\\roaming\\python\\python312\\site-packages (from python-dateutil>=2.8.2->pandas>=1.3.0->yfinance==0.2.56) (1.17.0)\n",
            "Note: you may need to restart the kernel to use updated packages.\n"
          ]
        }
      ],
      "source": [
        "%pip install yfinance==0.2.56"
      ]
    },
    {
      "cell_type": "markdown",
      "metadata": {},
      "source": [
        "Import yahoo finance and download 'Phoenix Group Holdings plc' dataset from 2015 to 2025"
      ]
    },
    {
      "cell_type": "code",
      "execution_count": 5,
      "metadata": {},
      "outputs": [
        {
          "name": "stdout",
          "output_type": "stream",
          "text": [
            "dataset downloaded\n"
          ]
        }
      ],
      "source": [
        "import yfinance as yf\n",
        "ticker = yf.Ticker(\"PHNX.L\")\n",
        "\n",
        "data = ticker.history(start=\"2015-01-01\", end=\"2025-01-01\")\n",
        "print(\"dataset downloaded\")"
      ]
    },
    {
      "cell_type": "markdown",
      "metadata": {},
      "source": [
        "Create input directory for datasets"
      ]
    },
    {
      "cell_type": "code",
      "execution_count": 6,
      "metadata": {},
      "outputs": [
        {
          "name": "stdout",
          "output_type": "stream",
          "text": [
            "[WinError 183] Cannot create a file when that file already exists: 'inputs/datasets/raw'\n"
          ]
        }
      ],
      "source": [
        "dir = \"inputs/datasets/raw\"\n",
        "\n",
        "try:\n",
        "  os.makedirs(name=dir)\n",
        "  print(f\"directory {dir} created\")\n",
        "except Exception as e:\n",
        "  print(e)"
      ]
    },
    {
      "cell_type": "markdown",
      "metadata": {},
      "source": [
        "Save csv file to input directory"
      ]
    },
    {
      "cell_type": "code",
      "execution_count": 7,
      "metadata": {},
      "outputs": [
        {
          "name": "stdout",
          "output_type": "stream",
          "text": [
            "csv file saved\n"
          ]
        }
      ],
      "source": [
        "data.to_csv(f\"{current_dir}/{dir}/phnx_2015_2025.csv\")\n",
        "print(\"csv file saved\")"
      ]
    },
    {
      "cell_type": "markdown",
      "metadata": {},
      "source": [
        "---"
      ]
    },
    {
      "cell_type": "markdown",
      "metadata": {
        "id": "uFQo3ycuO-v6"
      },
      "source": [
        "## Load and Inspect Yahoo Data"
      ]
    },
    {
      "cell_type": "markdown",
      "metadata": {},
      "source": [
        "Import pandas and upload csv file from inputs dataset to a dataframe"
      ]
    },
    {
      "cell_type": "code",
      "execution_count": 8,
      "metadata": {},
      "outputs": [
        {
          "name": "stdout",
          "output_type": "stream",
          "text": [
            "(2526, 8)\n"
          ]
        },
        {
          "data": {
            "text/html": [
              "<div>\n",
              "<style scoped>\n",
              "    .dataframe tbody tr th:only-of-type {\n",
              "        vertical-align: middle;\n",
              "    }\n",
              "\n",
              "    .dataframe tbody tr th {\n",
              "        vertical-align: top;\n",
              "    }\n",
              "\n",
              "    .dataframe thead th {\n",
              "        text-align: right;\n",
              "    }\n",
              "</style>\n",
              "<table border=\"1\" class=\"dataframe\">\n",
              "  <thead>\n",
              "    <tr style=\"text-align: right;\">\n",
              "      <th></th>\n",
              "      <th>Date</th>\n",
              "      <th>Open</th>\n",
              "      <th>High</th>\n",
              "      <th>Low</th>\n",
              "      <th>Close</th>\n",
              "      <th>Volume</th>\n",
              "      <th>Dividends</th>\n",
              "      <th>Stock Splits</th>\n",
              "    </tr>\n",
              "  </thead>\n",
              "  <tbody>\n",
              "    <tr>\n",
              "      <th>0</th>\n",
              "      <td>2015-01-02 00:00:00+00:00</td>\n",
              "      <td>628.713742</td>\n",
              "      <td>630.618931</td>\n",
              "      <td>620.894841</td>\n",
              "      <td>624.522278</td>\n",
              "      <td>385199</td>\n",
              "      <td>0.0</td>\n",
              "      <td>0.0</td>\n",
              "    </tr>\n",
              "    <tr>\n",
              "      <th>1</th>\n",
              "      <td>2015-01-05 00:00:00+00:00</td>\n",
              "      <td>624.141181</td>\n",
              "      <td>627.951559</td>\n",
              "      <td>610.835330</td>\n",
              "      <td>611.947998</td>\n",
              "      <td>416491</td>\n",
              "      <td>0.0</td>\n",
              "      <td>0.0</td>\n",
              "    </tr>\n",
              "    <tr>\n",
              "      <th>2</th>\n",
              "      <td>2015-01-06 00:00:00+00:00</td>\n",
              "      <td>615.758388</td>\n",
              "      <td>615.758388</td>\n",
              "      <td>597.087463</td>\n",
              "      <td>597.087463</td>\n",
              "      <td>781658</td>\n",
              "      <td>0.0</td>\n",
              "      <td>0.0</td>\n",
              "    </tr>\n",
              "    <tr>\n",
              "      <th>3</th>\n",
              "      <td>2015-01-07 00:00:00+00:00</td>\n",
              "      <td>603.184177</td>\n",
              "      <td>605.447524</td>\n",
              "      <td>597.925840</td>\n",
              "      <td>603.946289</td>\n",
              "      <td>743617</td>\n",
              "      <td>0.0</td>\n",
              "      <td>0.0</td>\n",
              "    </tr>\n",
              "    <tr>\n",
              "      <th>4</th>\n",
              "      <td>2015-01-08 00:00:00+00:00</td>\n",
              "      <td>607.375613</td>\n",
              "      <td>611.948103</td>\n",
              "      <td>605.089338</td>\n",
              "      <td>611.567078</td>\n",
              "      <td>453541</td>\n",
              "      <td>0.0</td>\n",
              "      <td>0.0</td>\n",
              "    </tr>\n",
              "    <tr>\n",
              "      <th>...</th>\n",
              "      <td>...</td>\n",
              "      <td>...</td>\n",
              "      <td>...</td>\n",
              "      <td>...</td>\n",
              "      <td>...</td>\n",
              "      <td>...</td>\n",
              "      <td>...</td>\n",
              "      <td>...</td>\n",
              "    </tr>\n",
              "    <tr>\n",
              "      <th>2521</th>\n",
              "      <td>2024-12-23 00:00:00+00:00</td>\n",
              "      <td>498.162306</td>\n",
              "      <td>502.260357</td>\n",
              "      <td>496.762980</td>\n",
              "      <td>501.260834</td>\n",
              "      <td>1071229</td>\n",
              "      <td>0.0</td>\n",
              "      <td>0.0</td>\n",
              "    </tr>\n",
              "    <tr>\n",
              "      <th>2522</th>\n",
              "      <td>2024-12-24 00:00:00+00:00</td>\n",
              "      <td>502.260351</td>\n",
              "      <td>505.258920</td>\n",
              "      <td>501.760590</td>\n",
              "      <td>501.760590</td>\n",
              "      <td>436491</td>\n",
              "      <td>0.0</td>\n",
              "      <td>0.0</td>\n",
              "    </tr>\n",
              "    <tr>\n",
              "      <th>2523</th>\n",
              "      <td>2024-12-27 00:00:00+00:00</td>\n",
              "      <td>500.261324</td>\n",
              "      <td>503.759655</td>\n",
              "      <td>500.261324</td>\n",
              "      <td>502.760132</td>\n",
              "      <td>881757</td>\n",
              "      <td>0.0</td>\n",
              "      <td>0.0</td>\n",
              "    </tr>\n",
              "    <tr>\n",
              "      <th>2524</th>\n",
              "      <td>2024-12-30 00:00:00+00:00</td>\n",
              "      <td>501.760601</td>\n",
              "      <td>504.759170</td>\n",
              "      <td>498.961948</td>\n",
              "      <td>500.761078</td>\n",
              "      <td>608408</td>\n",
              "      <td>0.0</td>\n",
              "      <td>0.0</td>\n",
              "    </tr>\n",
              "    <tr>\n",
              "      <th>2525</th>\n",
              "      <td>2024-12-31 00:00:00+00:00</td>\n",
              "      <td>502.260352</td>\n",
              "      <td>509.756775</td>\n",
              "      <td>500.523174</td>\n",
              "      <td>509.756775</td>\n",
              "      <td>514204</td>\n",
              "      <td>0.0</td>\n",
              "      <td>0.0</td>\n",
              "    </tr>\n",
              "  </tbody>\n",
              "</table>\n",
              "<p>2526 rows × 8 columns</p>\n",
              "</div>"
            ],
            "text/plain": [
              "                           Date        Open        High         Low  \\\n",
              "0     2015-01-02 00:00:00+00:00  628.713742  630.618931  620.894841   \n",
              "1     2015-01-05 00:00:00+00:00  624.141181  627.951559  610.835330   \n",
              "2     2015-01-06 00:00:00+00:00  615.758388  615.758388  597.087463   \n",
              "3     2015-01-07 00:00:00+00:00  603.184177  605.447524  597.925840   \n",
              "4     2015-01-08 00:00:00+00:00  607.375613  611.948103  605.089338   \n",
              "...                         ...         ...         ...         ...   \n",
              "2521  2024-12-23 00:00:00+00:00  498.162306  502.260357  496.762980   \n",
              "2522  2024-12-24 00:00:00+00:00  502.260351  505.258920  501.760590   \n",
              "2523  2024-12-27 00:00:00+00:00  500.261324  503.759655  500.261324   \n",
              "2524  2024-12-30 00:00:00+00:00  501.760601  504.759170  498.961948   \n",
              "2525  2024-12-31 00:00:00+00:00  502.260352  509.756775  500.523174   \n",
              "\n",
              "           Close   Volume  Dividends  Stock Splits  \n",
              "0     624.522278   385199        0.0           0.0  \n",
              "1     611.947998   416491        0.0           0.0  \n",
              "2     597.087463   781658        0.0           0.0  \n",
              "3     603.946289   743617        0.0           0.0  \n",
              "4     611.567078   453541        0.0           0.0  \n",
              "...          ...      ...        ...           ...  \n",
              "2521  501.260834  1071229        0.0           0.0  \n",
              "2522  501.760590   436491        0.0           0.0  \n",
              "2523  502.760132   881757        0.0           0.0  \n",
              "2524  500.761078   608408        0.0           0.0  \n",
              "2525  509.756775   514204        0.0           0.0  \n",
              "\n",
              "[2526 rows x 8 columns]"
            ]
          },
          "execution_count": 8,
          "metadata": {},
          "output_type": "execute_result"
        }
      ],
      "source": [
        "import pandas as pd\n",
        "df = pd.read_csv(f\"{dir}/phnx_2015_2025.csv\")\n",
        "print(df.shape)\n",
        "df"
      ]
    },
    {
      "cell_type": "markdown",
      "metadata": {},
      "source": [
        "Convert all feature names to lowercase to improve workflow consistency"
      ]
    },
    {
      "cell_type": "code",
      "execution_count": 9,
      "metadata": {},
      "outputs": [
        {
          "data": {
            "text/html": [
              "<div>\n",
              "<style scoped>\n",
              "    .dataframe tbody tr th:only-of-type {\n",
              "        vertical-align: middle;\n",
              "    }\n",
              "\n",
              "    .dataframe tbody tr th {\n",
              "        vertical-align: top;\n",
              "    }\n",
              "\n",
              "    .dataframe thead th {\n",
              "        text-align: right;\n",
              "    }\n",
              "</style>\n",
              "<table border=\"1\" class=\"dataframe\">\n",
              "  <thead>\n",
              "    <tr style=\"text-align: right;\">\n",
              "      <th></th>\n",
              "      <th>date</th>\n",
              "      <th>open</th>\n",
              "      <th>high</th>\n",
              "      <th>low</th>\n",
              "      <th>close</th>\n",
              "      <th>volume</th>\n",
              "      <th>dividends</th>\n",
              "      <th>stock splits</th>\n",
              "    </tr>\n",
              "  </thead>\n",
              "  <tbody>\n",
              "    <tr>\n",
              "      <th>0</th>\n",
              "      <td>2015-01-02 00:00:00+00:00</td>\n",
              "      <td>628.713742</td>\n",
              "      <td>630.618931</td>\n",
              "      <td>620.894841</td>\n",
              "      <td>624.522278</td>\n",
              "      <td>385199</td>\n",
              "      <td>0.0</td>\n",
              "      <td>0.0</td>\n",
              "    </tr>\n",
              "    <tr>\n",
              "      <th>1</th>\n",
              "      <td>2015-01-05 00:00:00+00:00</td>\n",
              "      <td>624.141181</td>\n",
              "      <td>627.951559</td>\n",
              "      <td>610.835330</td>\n",
              "      <td>611.947998</td>\n",
              "      <td>416491</td>\n",
              "      <td>0.0</td>\n",
              "      <td>0.0</td>\n",
              "    </tr>\n",
              "    <tr>\n",
              "      <th>2</th>\n",
              "      <td>2015-01-06 00:00:00+00:00</td>\n",
              "      <td>615.758388</td>\n",
              "      <td>615.758388</td>\n",
              "      <td>597.087463</td>\n",
              "      <td>597.087463</td>\n",
              "      <td>781658</td>\n",
              "      <td>0.0</td>\n",
              "      <td>0.0</td>\n",
              "    </tr>\n",
              "  </tbody>\n",
              "</table>\n",
              "</div>"
            ],
            "text/plain": [
              "                        date        open        high         low       close  \\\n",
              "0  2015-01-02 00:00:00+00:00  628.713742  630.618931  620.894841  624.522278   \n",
              "1  2015-01-05 00:00:00+00:00  624.141181  627.951559  610.835330  611.947998   \n",
              "2  2015-01-06 00:00:00+00:00  615.758388  615.758388  597.087463  597.087463   \n",
              "\n",
              "   volume  dividends  stock splits  \n",
              "0  385199        0.0           0.0  \n",
              "1  416491        0.0           0.0  \n",
              "2  781658        0.0           0.0  "
            ]
          },
          "execution_count": 9,
          "metadata": {},
          "output_type": "execute_result"
        }
      ],
      "source": [
        "df.columns = df.columns.str.lower()\n",
        "df.head(3)"
      ]
    },
    {
      "cell_type": "markdown",
      "metadata": {},
      "source": [
        "Check for missing and duplicated data"
      ]
    },
    {
      "cell_type": "code",
      "execution_count": 10,
      "metadata": {},
      "outputs": [
        {
          "name": "stdout",
          "output_type": "stream",
          "text": [
            "<class 'pandas.core.frame.DataFrame'>\n",
            "RangeIndex: 2526 entries, 0 to 2525\n",
            "Data columns (total 8 columns):\n",
            " #   Column        Non-Null Count  Dtype  \n",
            "---  ------        --------------  -----  \n",
            " 0   date          2526 non-null   object \n",
            " 1   open          2526 non-null   float64\n",
            " 2   high          2526 non-null   float64\n",
            " 3   low           2526 non-null   float64\n",
            " 4   close         2526 non-null   float64\n",
            " 5   volume        2526 non-null   int64  \n",
            " 6   dividends     2526 non-null   float64\n",
            " 7   stock splits  2526 non-null   float64\n",
            "dtypes: float64(6), int64(1), object(1)\n",
            "memory usage: 158.0+ KB\n"
          ]
        }
      ],
      "source": [
        "df.info()"
      ]
    },
    {
      "cell_type": "code",
      "execution_count": 11,
      "metadata": {},
      "outputs": [
        {
          "data": {
            "text/plain": [
              "date            0\n",
              "open            0\n",
              "high            0\n",
              "low             0\n",
              "close           0\n",
              "volume          0\n",
              "dividends       0\n",
              "stock splits    0\n",
              "dtype: int64"
            ]
          },
          "execution_count": 11,
          "metadata": {},
          "output_type": "execute_result"
        }
      ],
      "source": [
        "df.isna().sum()"
      ]
    },
    {
      "cell_type": "code",
      "execution_count": 12,
      "metadata": {},
      "outputs": [
        {
          "data": {
            "text/html": [
              "<div>\n",
              "<style scoped>\n",
              "    .dataframe tbody tr th:only-of-type {\n",
              "        vertical-align: middle;\n",
              "    }\n",
              "\n",
              "    .dataframe tbody tr th {\n",
              "        vertical-align: top;\n",
              "    }\n",
              "\n",
              "    .dataframe thead th {\n",
              "        text-align: right;\n",
              "    }\n",
              "</style>\n",
              "<table border=\"1\" class=\"dataframe\">\n",
              "  <thead>\n",
              "    <tr style=\"text-align: right;\">\n",
              "      <th></th>\n",
              "      <th>date</th>\n",
              "      <th>open</th>\n",
              "      <th>high</th>\n",
              "      <th>low</th>\n",
              "      <th>close</th>\n",
              "      <th>volume</th>\n",
              "      <th>dividends</th>\n",
              "      <th>stock splits</th>\n",
              "    </tr>\n",
              "  </thead>\n",
              "  <tbody>\n",
              "  </tbody>\n",
              "</table>\n",
              "</div>"
            ],
            "text/plain": [
              "Empty DataFrame\n",
              "Columns: [date, open, high, low, close, volume, dividends, stock splits]\n",
              "Index: []"
            ]
          },
          "execution_count": 12,
          "metadata": {},
          "output_type": "execute_result"
        }
      ],
      "source": [
        "df[df.duplicated(subset=['date'])]"
      ]
    },
    {
      "cell_type": "markdown",
      "metadata": {},
      "source": [
        "Check for unique values"
      ]
    },
    {
      "cell_type": "code",
      "execution_count": 13,
      "metadata": {},
      "outputs": [
        {
          "data": {
            "text/plain": [
              "array([ 0.    , 20.4201, 22.5713, 24.8   , 26.    , 26.65  ])"
            ]
          },
          "execution_count": 13,
          "metadata": {},
          "output_type": "execute_result"
        }
      ],
      "source": [
        "df['dividends'].unique()"
      ]
    },
    {
      "cell_type": "code",
      "execution_count": 14,
      "metadata": {},
      "outputs": [
        {
          "data": {
            "text/plain": [
              "array([0.])"
            ]
          },
          "execution_count": 14,
          "metadata": {},
          "output_type": "execute_result"
        }
      ],
      "source": [
        "df['stock splits'].unique()"
      ]
    },
    {
      "cell_type": "markdown",
      "metadata": {},
      "source": [
        "Plot data in a line chart for visualization"
      ]
    },
    {
      "cell_type": "code",
      "execution_count": 15,
      "metadata": {},
      "outputs": [
        {
          "data": {
            "text/plain": [
              "<Axes: xlabel='date'>"
            ]
          },
          "execution_count": 15,
          "metadata": {},
          "output_type": "execute_result"
        },
        {
          "data": {
            "image/png": "[encoded data removed]",
            "text/plain": [
              "<Figure size 1500x600 with 1 Axes>"
            ]
          },
          "metadata": {},
          "output_type": "display_data"
        }
      ],
      "source": [
        "import matplotlib.pyplot as plt\n",
        "df.plot.line(y='close',x='date',figsize=(15, 6))"
      ]
    },
    {
      "cell_type": "markdown",
      "metadata": {},
      "source": [
        "---"
      ]
    },
    {
      "cell_type": "markdown",
      "metadata": {
        "id": "ltNetd085qHf"
      },
      "source": [
        "## Save Files and Push to Repo"
      ]
    },
    {
      "cell_type": "markdown",
      "metadata": {},
      "source": [
        "Create output directory and save modified csv file"
      ]
    },
    {
      "cell_type": "code",
      "execution_count": 16,
      "metadata": {
        "id": "aKlnIozA4eQO",
        "outputId": "fd09bc1f-adb1-4511-f6ce-492a6af570c0"
      },
      "outputs": [
        {
          "name": "stdout",
          "output_type": "stream",
          "text": [
            "[WinError 183] Cannot create a file when that file already exists: 'outputs/datasets/collection'\n"
          ]
        }
      ],
      "source": [
        "dir = \"outputs/datasets/collection\"\n",
        "try:\n",
        "  os.makedirs(name=dir)\n",
        "  print(f\"directory {dir} created\")\n",
        "except Exception as e:\n",
        "  print(e)"
      ]
    },
    {
      "cell_type": "code",
      "execution_count": 17,
      "metadata": {},
      "outputs": [
        {
          "name": "stdout",
          "output_type": "stream",
          "text": [
            "csv file saved\n"
          ]
        }
      ],
      "source": [
        "df.to_csv(f\"{current_dir}/{dir}/phnx_2015_2025.csv\",index=False)\n",
        "print(\"csv file saved\")"
      ]
    }
  ],
  "metadata": {
    "accelerator": "GPU",
    "colab": {
      "name": "Data Practitioner Jupyter Notebook.ipynb",
      "provenance": [],
      "toc_visible": true
    },
    "kernelspec": {
      "display_name": "Python 3",
      "language": "python",
      "name": "python3"
    },
    "language_info": {
      "codemirror_mode": {
        "name": "ipython",
        "version": 3
      },
      "file_extension": ".py",
      "mimetype": "text/x-python",
      "name": "python",
      "nbconvert_exporter": "python",
      "pygments_lexer": "ipython3",
      "version": "3.12.8"
    },
    "orig_nbformat": 2
  },
  "nbformat": 4,
  "nbformat_minor": 2
}
