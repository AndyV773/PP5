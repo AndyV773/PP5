{
  "cells": [
    {
      "cell_type": "markdown",
      "metadata": {
        "id": "0aStgWSO0E0E"
      },
      "source": [
        "# **Data Cleaning**"
      ]
    },
    {
      "cell_type": "markdown",
      "metadata": {
        "id": "1eLEkw5O0ECa"
      },
      "source": [
        "## Objectives\n",
        "\n",
        "* Add exploratory lag features and create the target variables \n",
        "* Perform data cleaning and preprocessing\n",
        "\n",
        "## Inputs\n",
        "\n",
        "* outputs/datasets/collection/phnx_2010_2025.csv\n",
        "\n",
        "## Outputs\n",
        "\n",
        "* Cleaned dataset with consistent formatting and no missing values\n",
        "* New exploratory features added\n",
        "* Target variable column defined for classification and regression\n",
        "* Train and Test sets, both saved under outputs/datasets/cleaned\n",
        "\n",
        "## Additional Comments\n",
        "\n",
        "* Lag features and the target variable were added as part of feature engineering, before splitting the data. This was done early to keep the time order correct and avoid data leakage, ensuring the model only learns from past information \n",
        "\n"
      ]
    },
    {
      "cell_type": "markdown",
      "metadata": {
        "id": "9uWZXH9LwoQg"
      },
      "source": [
        "---"
      ]
    },
    {
      "cell_type": "markdown",
      "metadata": {
        "id": "cqP-UeN-z3i2"
      },
      "source": [
        "# Change working directory"
      ]
    },
    {
      "cell_type": "markdown",
      "metadata": {},
      "source": [
        "* We are assuming you will store the notebooks in a subfolder, therefore when running the notebook in the editor, you will need to change the working directory"
      ]
    },
    {
      "cell_type": "markdown",
      "metadata": {
        "id": "aOGIGS-uz3i2"
      },
      "source": [
        "We need to change the working directory from its current folder to its parent folder\n",
        "* We access the current directory with os.getcwd()"
      ]
    },
    {
      "cell_type": "code",
      "execution_count": 1,
      "metadata": {
        "id": "wZfF_j-Bz3i4",
        "outputId": "66943449-1436-4c3d-85c7-b85f9f78349b"
      },
      "outputs": [
        {
          "data": {
            "text/plain": [
              "'c:\\\\Users\\\\ajv10\\\\Documents\\\\vscode-projects\\\\PP5\\\\jupyter_notebooks'"
            ]
          },
          "execution_count": 1,
          "metadata": {},
          "output_type": "execute_result"
        }
      ],
      "source": [
        "import os\n",
        "current_dir = os.getcwd()\n",
        "current_dir"
      ]
    },
    {
      "cell_type": "markdown",
      "metadata": {
        "id": "9MWW8E7lz3i7"
      },
      "source": [
        "We want to make the parent of the current directory the new current directory\n",
        "* os.path.dirname() gets the parent directory\n",
        "* os.chir() defines the new current directory"
      ]
    },
    {
      "cell_type": "code",
      "execution_count": 2,
      "metadata": {
        "id": "TwHsQRWjz3i9",
        "outputId": "86849db3-cd2f-4cc5-ebb8-2d0caafa1a2c"
      },
      "outputs": [
        {
          "name": "stdout",
          "output_type": "stream",
          "text": [
            "You set a new current directory\n"
          ]
        }
      ],
      "source": [
        "os.chdir(os.path.dirname(current_dir))\n",
        "print(\"You set a new current directory\")"
      ]
    },
    {
      "cell_type": "markdown",
      "metadata": {
        "id": "M_xPk_Ijz3i-"
      },
      "source": [
        "Confirm the new current directory"
      ]
    },
    {
      "cell_type": "code",
      "execution_count": 3,
      "metadata": {
        "id": "vz3S-_kjz3jA",
        "outputId": "00b79ae4-75d0-4a96-d193-ac9ef9847ea2"
      },
      "outputs": [
        {
          "data": {
            "text/plain": [
              "'c:\\\\Users\\\\ajv10\\\\Documents\\\\vscode-projects\\\\PP5'"
            ]
          },
          "execution_count": 3,
          "metadata": {},
          "output_type": "execute_result"
        }
      ],
      "source": [
        "current_dir = os.getcwd()\n",
        "current_dir"
      ]
    },
    {
      "cell_type": "markdown",
      "metadata": {},
      "source": [
        "---"
      ]
    },
    {
      "cell_type": "markdown",
      "metadata": {},
      "source": [
        "## Load Data"
      ]
    },
    {
      "cell_type": "code",
      "execution_count": 4,
      "metadata": {},
      "outputs": [
        {
          "data": {
            "text/html": [
              "<div>\n",
              "<style scoped>\n",
              "    .dataframe tbody tr th:only-of-type {\n",
              "        vertical-align: middle;\n",
              "    }\n",
              "\n",
              "    .dataframe tbody tr th {\n",
              "        vertical-align: top;\n",
              "    }\n",
              "\n",
              "    .dataframe thead th {\n",
              "        text-align: right;\n",
              "    }\n",
              "</style>\n",
              "<table border=\"1\" class=\"dataframe\">\n",
              "  <thead>\n",
              "    <tr style=\"text-align: right;\">\n",
              "      <th></th>\n",
              "      <th>date</th>\n",
              "      <th>open</th>\n",
              "      <th>high</th>\n",
              "      <th>low</th>\n",
              "      <th>close</th>\n",
              "      <th>volume</th>\n",
              "      <th>dividends</th>\n",
              "      <th>stock splits</th>\n",
              "    </tr>\n",
              "  </thead>\n",
              "  <tbody>\n",
              "    <tr>\n",
              "      <th>0</th>\n",
              "      <td>2010-01-04 00:00:00+00:00</td>\n",
              "      <td>477.996320</td>\n",
              "      <td>504.136205</td>\n",
              "      <td>477.996320</td>\n",
              "      <td>497.990021</td>\n",
              "      <td>13401</td>\n",
              "      <td>0.0</td>\n",
              "      <td>0.0</td>\n",
              "    </tr>\n",
              "    <tr>\n",
              "      <th>1</th>\n",
              "      <td>2010-01-05 00:00:00+00:00</td>\n",
              "      <td>507.246289</td>\n",
              "      <td>510.282389</td>\n",
              "      <td>507.246289</td>\n",
              "      <td>497.990021</td>\n",
              "      <td>10729</td>\n",
              "      <td>0.0</td>\n",
              "      <td>0.0</td>\n",
              "    </tr>\n",
              "    <tr>\n",
              "      <th>2</th>\n",
              "      <td>2010-01-06 00:00:00+00:00</td>\n",
              "      <td>497.990021</td>\n",
              "      <td>497.990021</td>\n",
              "      <td>497.990021</td>\n",
              "      <td>497.990021</td>\n",
              "      <td>0</td>\n",
              "      <td>0.0</td>\n",
              "      <td>0.0</td>\n",
              "    </tr>\n",
              "  </tbody>\n",
              "</table>\n",
              "</div>"
            ],
            "text/plain": [
              "                        date        open        high         low       close  \\\n",
              "0  2010-01-04 00:00:00+00:00  477.996320  504.136205  477.996320  497.990021   \n",
              "1  2010-01-05 00:00:00+00:00  507.246289  510.282389  507.246289  497.990021   \n",
              "2  2010-01-06 00:00:00+00:00  497.990021  497.990021  497.990021  497.990021   \n",
              "\n",
              "   volume  dividends  stock splits  \n",
              "0   13401        0.0           0.0  \n",
              "1   10729        0.0           0.0  \n",
              "2       0        0.0           0.0  "
            ]
          },
          "execution_count": 4,
          "metadata": {},
          "output_type": "execute_result"
        }
      ],
      "source": [
        "import pandas as pd\n",
        "\n",
        "df = pd.read_csv(\"outputs/datasets/collection/phnx_2010_2025.csv\")\n",
        "df.head(3)"
      ]
    },
    {
      "cell_type": "code",
      "execution_count": 5,
      "metadata": {},
      "outputs": [
        {
          "name": "stdout",
          "output_type": "stream",
          "text": [
            "(3788, 8)\n"
          ]
        },
        {
          "data": {
            "text/html": [
              "<div>\n",
              "<style scoped>\n",
              "    .dataframe tbody tr th:only-of-type {\n",
              "        vertical-align: middle;\n",
              "    }\n",
              "\n",
              "    .dataframe tbody tr th {\n",
              "        vertical-align: top;\n",
              "    }\n",
              "\n",
              "    .dataframe thead th {\n",
              "        text-align: right;\n",
              "    }\n",
              "</style>\n",
              "<table border=\"1\" class=\"dataframe\">\n",
              "  <thead>\n",
              "    <tr style=\"text-align: right;\">\n",
              "      <th></th>\n",
              "      <th>date</th>\n",
              "      <th>open</th>\n",
              "      <th>high</th>\n",
              "      <th>low</th>\n",
              "      <th>close</th>\n",
              "      <th>volume</th>\n",
              "      <th>dividends</th>\n",
              "      <th>stock splits</th>\n",
              "    </tr>\n",
              "  </thead>\n",
              "  <tbody>\n",
              "    <tr>\n",
              "      <th>0</th>\n",
              "      <td>2010-01-04 00:00:00+00:00</td>\n",
              "      <td>477.996320</td>\n",
              "      <td>504.136205</td>\n",
              "      <td>477.996320</td>\n",
              "      <td>497.990021</td>\n",
              "      <td>13401</td>\n",
              "      <td>0.0</td>\n",
              "      <td>0.0</td>\n",
              "    </tr>\n",
              "    <tr>\n",
              "      <th>1</th>\n",
              "      <td>2010-01-05 00:00:00+00:00</td>\n",
              "      <td>507.246289</td>\n",
              "      <td>510.282389</td>\n",
              "      <td>507.246289</td>\n",
              "      <td>497.990021</td>\n",
              "      <td>10729</td>\n",
              "      <td>0.0</td>\n",
              "      <td>0.0</td>\n",
              "    </tr>\n",
              "    <tr>\n",
              "      <th>2</th>\n",
              "      <td>2010-01-06 00:00:00+00:00</td>\n",
              "      <td>497.990021</td>\n",
              "      <td>497.990021</td>\n",
              "      <td>497.990021</td>\n",
              "      <td>497.990021</td>\n",
              "      <td>0</td>\n",
              "      <td>0.0</td>\n",
              "      <td>0.0</td>\n",
              "    </tr>\n",
              "    <tr>\n",
              "      <th>3</th>\n",
              "      <td>2010-01-07 00:00:00+00:00</td>\n",
              "      <td>507.468427</td>\n",
              "      <td>507.468427</td>\n",
              "      <td>503.543762</td>\n",
              "      <td>503.543762</td>\n",
              "      <td>6169</td>\n",
              "      <td>0.0</td>\n",
              "      <td>0.0</td>\n",
              "    </tr>\n",
              "    <tr>\n",
              "      <th>4</th>\n",
              "      <td>2010-01-08 00:00:00+00:00</td>\n",
              "      <td>503.543762</td>\n",
              "      <td>503.543762</td>\n",
              "      <td>503.543762</td>\n",
              "      <td>503.543762</td>\n",
              "      <td>0</td>\n",
              "      <td>0.0</td>\n",
              "      <td>0.0</td>\n",
              "    </tr>\n",
              "    <tr>\n",
              "      <th>...</th>\n",
              "      <td>...</td>\n",
              "      <td>...</td>\n",
              "      <td>...</td>\n",
              "      <td>...</td>\n",
              "      <td>...</td>\n",
              "      <td>...</td>\n",
              "      <td>...</td>\n",
              "      <td>...</td>\n",
              "    </tr>\n",
              "    <tr>\n",
              "      <th>3783</th>\n",
              "      <td>2024-12-23 00:00:00+00:00</td>\n",
              "      <td>498.162306</td>\n",
              "      <td>502.260357</td>\n",
              "      <td>496.762980</td>\n",
              "      <td>501.260834</td>\n",
              "      <td>1071229</td>\n",
              "      <td>0.0</td>\n",
              "      <td>0.0</td>\n",
              "    </tr>\n",
              "    <tr>\n",
              "      <th>3784</th>\n",
              "      <td>2024-12-24 00:00:00+00:00</td>\n",
              "      <td>502.260351</td>\n",
              "      <td>505.258920</td>\n",
              "      <td>501.760590</td>\n",
              "      <td>501.760590</td>\n",
              "      <td>436491</td>\n",
              "      <td>0.0</td>\n",
              "      <td>0.0</td>\n",
              "    </tr>\n",
              "    <tr>\n",
              "      <th>3785</th>\n",
              "      <td>2024-12-27 00:00:00+00:00</td>\n",
              "      <td>500.261324</td>\n",
              "      <td>503.759655</td>\n",
              "      <td>500.261324</td>\n",
              "      <td>502.760132</td>\n",
              "      <td>881757</td>\n",
              "      <td>0.0</td>\n",
              "      <td>0.0</td>\n",
              "    </tr>\n",
              "    <tr>\n",
              "      <th>3786</th>\n",
              "      <td>2024-12-30 00:00:00+00:00</td>\n",
              "      <td>501.760601</td>\n",
              "      <td>504.759170</td>\n",
              "      <td>498.961948</td>\n",
              "      <td>500.761078</td>\n",
              "      <td>608408</td>\n",
              "      <td>0.0</td>\n",
              "      <td>0.0</td>\n",
              "    </tr>\n",
              "    <tr>\n",
              "      <th>3787</th>\n",
              "      <td>2024-12-31 00:00:00+00:00</td>\n",
              "      <td>502.260352</td>\n",
              "      <td>509.756775</td>\n",
              "      <td>500.523174</td>\n",
              "      <td>509.756775</td>\n",
              "      <td>514204</td>\n",
              "      <td>0.0</td>\n",
              "      <td>0.0</td>\n",
              "    </tr>\n",
              "  </tbody>\n",
              "</table>\n",
              "<p>3788 rows × 8 columns</p>\n",
              "</div>"
            ],
            "text/plain": [
              "                           date        open        high         low  \\\n",
              "0     2010-01-04 00:00:00+00:00  477.996320  504.136205  477.996320   \n",
              "1     2010-01-05 00:00:00+00:00  507.246289  510.282389  507.246289   \n",
              "2     2010-01-06 00:00:00+00:00  497.990021  497.990021  497.990021   \n",
              "3     2010-01-07 00:00:00+00:00  507.468427  507.468427  503.543762   \n",
              "4     2010-01-08 00:00:00+00:00  503.543762  503.543762  503.543762   \n",
              "...                         ...         ...         ...         ...   \n",
              "3783  2024-12-23 00:00:00+00:00  498.162306  502.260357  496.762980   \n",
              "3784  2024-12-24 00:00:00+00:00  502.260351  505.258920  501.760590   \n",
              "3785  2024-12-27 00:00:00+00:00  500.261324  503.759655  500.261324   \n",
              "3786  2024-12-30 00:00:00+00:00  501.760601  504.759170  498.961948   \n",
              "3787  2024-12-31 00:00:00+00:00  502.260352  509.756775  500.523174   \n",
              "\n",
              "           close   volume  dividends  stock splits  \n",
              "0     497.990021    13401        0.0           0.0  \n",
              "1     497.990021    10729        0.0           0.0  \n",
              "2     497.990021        0        0.0           0.0  \n",
              "3     503.543762     6169        0.0           0.0  \n",
              "4     503.543762        0        0.0           0.0  \n",
              "...          ...      ...        ...           ...  \n",
              "3783  501.260834  1071229        0.0           0.0  \n",
              "3784  501.760590   436491        0.0           0.0  \n",
              "3785  502.760132   881757        0.0           0.0  \n",
              "3786  500.761078   608408        0.0           0.0  \n",
              "3787  509.756775   514204        0.0           0.0  \n",
              "\n",
              "[3788 rows x 8 columns]"
            ]
          },
          "execution_count": 5,
          "metadata": {},
          "output_type": "execute_result"
        }
      ],
      "source": [
        "df = df.copy()\n",
        "print(df.shape)\n",
        "df"
      ]
    },
    {
      "cell_type": "markdown",
      "metadata": {},
      "source": [
        "---"
      ]
    },
    {
      "cell_type": "markdown",
      "metadata": {},
      "source": [
        "## Assessing Missing Data Levels"
      ]
    },
    {
      "cell_type": "markdown",
      "metadata": {},
      "source": [
        "Drop 'dividends' and 'stock splits'"
      ]
    },
    {
      "cell_type": "code",
      "execution_count": 6,
      "metadata": {},
      "outputs": [],
      "source": [
        "df = df.drop(['dividends','stock splits'],axis=1)"
      ]
    },
    {
      "cell_type": "markdown",
      "metadata": {},
      "source": [
        "Convert volume values of 0 into NaN"
      ]
    },
    {
      "cell_type": "code",
      "execution_count": 7,
      "metadata": {},
      "outputs": [],
      "source": [
        "import numpy as np\n",
        "\n",
        "df['volume'] = df['volume'].replace(0, np.nan)"
      ]
    },
    {
      "cell_type": "code",
      "execution_count": 8,
      "metadata": {},
      "outputs": [
        {
          "data": {
            "text/plain": [
              "['volume']"
            ]
          },
          "execution_count": 8,
          "metadata": {},
          "output_type": "execute_result"
        }
      ],
      "source": [
        "vars_with_missing_data = df.columns[df.isna().sum() > 0].to_list()\n",
        "vars_with_missing_data"
      ]
    },
    {
      "cell_type": "code",
      "execution_count": 9,
      "metadata": {},
      "outputs": [],
      "source": [
        "def EvaluateMissingData(df):\n",
        "    missing_data_absolute = df.isnull().sum()\n",
        "    missing_data_percentage = round(missing_data_absolute/len(df)*100, 2)\n",
        "    df_missing_data = (pd.DataFrame(\n",
        "                            data={\"RowsWithMissingData\": missing_data_absolute,\n",
        "                                   \"PercentageOfDataset\": missing_data_percentage,\n",
        "                                   \"DataType\": df.dtypes}\n",
        "                                    )\n",
        "                          .sort_values(by=['PercentageOfDataset'], ascending=False)\n",
        "                          .query(\"PercentageOfDataset > 0\")\n",
        "                          )\n",
        "\n",
        "    return df_missing_data"
      ]
    },
    {
      "cell_type": "code",
      "execution_count": 10,
      "metadata": {},
      "outputs": [
        {
          "data": {
            "text/html": [
              "<div>\n",
              "<style scoped>\n",
              "    .dataframe tbody tr th:only-of-type {\n",
              "        vertical-align: middle;\n",
              "    }\n",
              "\n",
              "    .dataframe tbody tr th {\n",
              "        vertical-align: top;\n",
              "    }\n",
              "\n",
              "    .dataframe thead th {\n",
              "        text-align: right;\n",
              "    }\n",
              "</style>\n",
              "<table border=\"1\" class=\"dataframe\">\n",
              "  <thead>\n",
              "    <tr style=\"text-align: right;\">\n",
              "      <th></th>\n",
              "      <th>RowsWithMissingData</th>\n",
              "      <th>PercentageOfDataset</th>\n",
              "      <th>DataType</th>\n",
              "    </tr>\n",
              "  </thead>\n",
              "  <tbody>\n",
              "    <tr>\n",
              "      <th>volume</th>\n",
              "      <td>49</td>\n",
              "      <td>1.29</td>\n",
              "      <td>float64</td>\n",
              "    </tr>\n",
              "  </tbody>\n",
              "</table>\n",
              "</div>"
            ],
            "text/plain": [
              "        RowsWithMissingData  PercentageOfDataset DataType\n",
              "volume                   49                 1.29  float64"
            ]
          },
          "execution_count": 10,
          "metadata": {},
          "output_type": "execute_result"
        }
      ],
      "source": [
        "\n",
        "EvaluateMissingData(df)"
      ]
    },
    {
      "cell_type": "markdown",
      "metadata": {},
      "source": [
        "---"
      ]
    },
    {
      "cell_type": "markdown",
      "metadata": {},
      "source": [
        "## Imputation"
      ]
    },
    {
      "cell_type": "markdown",
      "metadata": {},
      "source": [
        "Purpose: Imputation is used to fill in missing values in your dataset\n",
        "\n",
        "* Methods:\n",
        "\n",
        "    * Mean, Median, Mode imputation: Fill missing values with the mean, median, or mode of that feature\n",
        "\n",
        "    * Forward/Backward Fill: Use adjacent values to fill missing data"
      ]
    },
    {
      "cell_type": "markdown",
      "metadata": {},
      "source": [
        "Since the price range follows the previous closing price, we use forward fill imputation to fill in the missing volume values"
      ]
    },
    {
      "cell_type": "code",
      "execution_count": 11,
      "metadata": {},
      "outputs": [],
      "source": [
        "df['volume'] = df['volume'].ffill()"
      ]
    },
    {
      "cell_type": "markdown",
      "metadata": {},
      "source": [
        "---"
      ]
    },
    {
      "cell_type": "markdown",
      "metadata": {},
      "source": [
        "## Feature Extraction and Target Definition"
      ]
    },
    {
      "cell_type": "markdown",
      "metadata": {},
      "source": [
        "Convert datetime object to a date format to extract the days of the week and the year from the 'date' column"
      ]
    },
    {
      "cell_type": "code",
      "execution_count": 12,
      "metadata": {},
      "outputs": [],
      "source": [
        "df['date'] = pd.to_datetime(df['date'],utc=True)"
      ]
    },
    {
      "cell_type": "code",
      "execution_count": 13,
      "metadata": {},
      "outputs": [],
      "source": [
        "df.insert(1, 'year', df['date'].dt.year)\n",
        "df.insert(2, 'weekday', df['date'].dt.day_name())"
      ]
    },
    {
      "cell_type": "markdown",
      "metadata": {},
      "source": [
        "Drop the date column after extracting the day and year features from it, and one hot encode the days of the week to binary values"
      ]
    },
    {
      "cell_type": "code",
      "execution_count": 14,
      "metadata": {},
      "outputs": [],
      "source": [
        "df = df.drop(['date'],axis=1)"
      ]
    },
    {
      "cell_type": "code",
      "execution_count": 15,
      "metadata": {},
      "outputs": [
        {
          "name": "stdout",
          "output_type": "stream",
          "text": [
            "(3788, 12)\n"
          ]
        },
        {
          "data": {
            "text/html": [
              "<div>\n",
              "<style scoped>\n",
              "    .dataframe tbody tr th:only-of-type {\n",
              "        vertical-align: middle;\n",
              "    }\n",
              "\n",
              "    .dataframe tbody tr th {\n",
              "        vertical-align: top;\n",
              "    }\n",
              "\n",
              "    .dataframe thead th {\n",
              "        text-align: right;\n",
              "    }\n",
              "</style>\n",
              "<table border=\"1\" class=\"dataframe\">\n",
              "  <thead>\n",
              "    <tr style=\"text-align: right;\">\n",
              "      <th></th>\n",
              "      <th>year</th>\n",
              "      <th>open</th>\n",
              "      <th>high</th>\n",
              "      <th>low</th>\n",
              "      <th>close</th>\n",
              "      <th>volume</th>\n",
              "      <th>weekday_Monday</th>\n",
              "      <th>weekday_Tuesday</th>\n",
              "      <th>weekday_Wednesday</th>\n",
              "      <th>weekday_Thursday</th>\n",
              "      <th>weekday_Friday</th>\n",
              "      <th>weekday_Sunday</th>\n",
              "    </tr>\n",
              "  </thead>\n",
              "  <tbody>\n",
              "    <tr>\n",
              "      <th>0</th>\n",
              "      <td>2010</td>\n",
              "      <td>477.996320</td>\n",
              "      <td>504.136205</td>\n",
              "      <td>477.996320</td>\n",
              "      <td>497.990021</td>\n",
              "      <td>13401.0</td>\n",
              "      <td>1</td>\n",
              "      <td>0</td>\n",
              "      <td>0</td>\n",
              "      <td>0</td>\n",
              "      <td>0</td>\n",
              "      <td>0</td>\n",
              "    </tr>\n",
              "    <tr>\n",
              "      <th>1</th>\n",
              "      <td>2010</td>\n",
              "      <td>507.246289</td>\n",
              "      <td>510.282389</td>\n",
              "      <td>507.246289</td>\n",
              "      <td>497.990021</td>\n",
              "      <td>10729.0</td>\n",
              "      <td>0</td>\n",
              "      <td>1</td>\n",
              "      <td>0</td>\n",
              "      <td>0</td>\n",
              "      <td>0</td>\n",
              "      <td>0</td>\n",
              "    </tr>\n",
              "    <tr>\n",
              "      <th>2</th>\n",
              "      <td>2010</td>\n",
              "      <td>497.990021</td>\n",
              "      <td>497.990021</td>\n",
              "      <td>497.990021</td>\n",
              "      <td>497.990021</td>\n",
              "      <td>10729.0</td>\n",
              "      <td>0</td>\n",
              "      <td>0</td>\n",
              "      <td>1</td>\n",
              "      <td>0</td>\n",
              "      <td>0</td>\n",
              "      <td>0</td>\n",
              "    </tr>\n",
              "  </tbody>\n",
              "</table>\n",
              "</div>"
            ],
            "text/plain": [
              "   year        open        high         low       close   volume  \\\n",
              "0  2010  477.996320  504.136205  477.996320  497.990021  13401.0   \n",
              "1  2010  507.246289  510.282389  507.246289  497.990021  10729.0   \n",
              "2  2010  497.990021  497.990021  497.990021  497.990021  10729.0   \n",
              "\n",
              "   weekday_Monday  weekday_Tuesday  weekday_Wednesday  weekday_Thursday  \\\n",
              "0               1                0                  0                 0   \n",
              "1               0                1                  0                 0   \n",
              "2               0                0                  1                 0   \n",
              "\n",
              "   weekday_Friday  weekday_Sunday  \n",
              "0               0               0  \n",
              "1               0               0  \n",
              "2               0               0  "
            ]
          },
          "execution_count": 15,
          "metadata": {},
          "output_type": "execute_result"
        }
      ],
      "source": [
        "from feature_engine.encoding import OneHotEncoder\n",
        "encoder = OneHotEncoder(variables=df.columns[df.dtypes=='object'].to_list(), drop_last=False)\n",
        "df = encoder.fit_transform(df)\n",
        "print(df.shape)\n",
        "df.head(3)"
      ]
    },
    {
      "cell_type": "markdown",
      "metadata": {},
      "source": [
        "Create lag features by shifting previous rows"
      ]
    },
    {
      "cell_type": "code",
      "execution_count": 16,
      "metadata": {},
      "outputs": [],
      "source": [
        "df['pre_open'] = df['open'].shift(+1)\n",
        "df['pre_open_2'] = df['open'].shift(+2)\n",
        "\n",
        "df['pre_high'] = df['high'].shift(+1)\n",
        "df['pre_high_2'] = df['high'].shift(+2)\n",
        "\n",
        "df['pre_low'] = df['low'].shift(+1)\n",
        "df['pre_low_2'] = df['low'].shift(+2)\n",
        "\n",
        "df['pre_close'] = df['close'].shift(+1)\n",
        "df['pre_close_2'] = df['close'].shift(+2)\n",
        "\n",
        "df['pre_vol'] = df['volume'].shift(+1)\n",
        "df['pre_vol_2'] = df['volume'].shift(+2)\n",
        "\n",
        "df['pre_average'] = df[['open', 'close']].mean(axis=1).shift(+1)\n",
        "df['pre_average_2'] = df[['open', 'close']].mean(axis=1).shift(+2)"
      ]
    },
    {
      "cell_type": "markdown",
      "metadata": {},
      "source": [
        "Create an average column using the open and close values. Then, generate a regression target by shifting the average to represent tomorrow’s value. Finally, create a binary classification target by checking if tomorrow’s average is higher than today’s, and assign it an integer label accordingly"
      ]
    },
    {
      "cell_type": "code",
      "execution_count": 17,
      "metadata": {},
      "outputs": [],
      "source": [
        "df['average'] = df[['open', 'close']].mean(axis=1)"
      ]
    },
    {
      "cell_type": "code",
      "execution_count": 18,
      "metadata": {},
      "outputs": [],
      "source": [
        "df['tomorrows_average'] = df[['open', 'close']].mean(axis=1).shift(-1)"
      ]
    },
    {
      "cell_type": "code",
      "execution_count": 19,
      "metadata": {},
      "outputs": [],
      "source": [
        "df['target'] = (df['tomorrows_average'] > df['average']).astype(int)"
      ]
    },
    {
      "cell_type": "code",
      "execution_count": 20,
      "metadata": {},
      "outputs": [
        {
          "data": {
            "text/html": [
              "<div>\n",
              "<style scoped>\n",
              "    .dataframe tbody tr th:only-of-type {\n",
              "        vertical-align: middle;\n",
              "    }\n",
              "\n",
              "    .dataframe tbody tr th {\n",
              "        vertical-align: top;\n",
              "    }\n",
              "\n",
              "    .dataframe thead th {\n",
              "        text-align: right;\n",
              "    }\n",
              "</style>\n",
              "<table border=\"1\" class=\"dataframe\">\n",
              "  <thead>\n",
              "    <tr style=\"text-align: right;\">\n",
              "      <th></th>\n",
              "      <th>RowsWithMissingData</th>\n",
              "      <th>PercentageOfDataset</th>\n",
              "      <th>DataType</th>\n",
              "    </tr>\n",
              "  </thead>\n",
              "  <tbody>\n",
              "    <tr>\n",
              "      <th>pre_open_2</th>\n",
              "      <td>2</td>\n",
              "      <td>0.05</td>\n",
              "      <td>float64</td>\n",
              "    </tr>\n",
              "    <tr>\n",
              "      <th>pre_average_2</th>\n",
              "      <td>2</td>\n",
              "      <td>0.05</td>\n",
              "      <td>float64</td>\n",
              "    </tr>\n",
              "    <tr>\n",
              "      <th>pre_vol_2</th>\n",
              "      <td>2</td>\n",
              "      <td>0.05</td>\n",
              "      <td>float64</td>\n",
              "    </tr>\n",
              "    <tr>\n",
              "      <th>pre_close_2</th>\n",
              "      <td>2</td>\n",
              "      <td>0.05</td>\n",
              "      <td>float64</td>\n",
              "    </tr>\n",
              "    <tr>\n",
              "      <th>pre_low_2</th>\n",
              "      <td>2</td>\n",
              "      <td>0.05</td>\n",
              "      <td>float64</td>\n",
              "    </tr>\n",
              "    <tr>\n",
              "      <th>pre_high_2</th>\n",
              "      <td>2</td>\n",
              "      <td>0.05</td>\n",
              "      <td>float64</td>\n",
              "    </tr>\n",
              "    <tr>\n",
              "      <th>pre_high</th>\n",
              "      <td>1</td>\n",
              "      <td>0.03</td>\n",
              "      <td>float64</td>\n",
              "    </tr>\n",
              "    <tr>\n",
              "      <th>tomorrows_average</th>\n",
              "      <td>1</td>\n",
              "      <td>0.03</td>\n",
              "      <td>float64</td>\n",
              "    </tr>\n",
              "    <tr>\n",
              "      <th>pre_average</th>\n",
              "      <td>1</td>\n",
              "      <td>0.03</td>\n",
              "      <td>float64</td>\n",
              "    </tr>\n",
              "    <tr>\n",
              "      <th>pre_vol</th>\n",
              "      <td>1</td>\n",
              "      <td>0.03</td>\n",
              "      <td>float64</td>\n",
              "    </tr>\n",
              "    <tr>\n",
              "      <th>pre_close</th>\n",
              "      <td>1</td>\n",
              "      <td>0.03</td>\n",
              "      <td>float64</td>\n",
              "    </tr>\n",
              "    <tr>\n",
              "      <th>pre_low</th>\n",
              "      <td>1</td>\n",
              "      <td>0.03</td>\n",
              "      <td>float64</td>\n",
              "    </tr>\n",
              "    <tr>\n",
              "      <th>pre_open</th>\n",
              "      <td>1</td>\n",
              "      <td>0.03</td>\n",
              "      <td>float64</td>\n",
              "    </tr>\n",
              "  </tbody>\n",
              "</table>\n",
              "</div>"
            ],
            "text/plain": [
              "                   RowsWithMissingData  PercentageOfDataset DataType\n",
              "pre_open_2                           2                 0.05  float64\n",
              "pre_average_2                        2                 0.05  float64\n",
              "pre_vol_2                            2                 0.05  float64\n",
              "pre_close_2                          2                 0.05  float64\n",
              "pre_low_2                            2                 0.05  float64\n",
              "pre_high_2                           2                 0.05  float64\n",
              "pre_high                             1                 0.03  float64\n",
              "tomorrows_average                    1                 0.03  float64\n",
              "pre_average                          1                 0.03  float64\n",
              "pre_vol                              1                 0.03  float64\n",
              "pre_close                            1                 0.03  float64\n",
              "pre_low                              1                 0.03  float64\n",
              "pre_open                             1                 0.03  float64"
            ]
          },
          "execution_count": 20,
          "metadata": {},
          "output_type": "execute_result"
        }
      ],
      "source": [
        "EvaluateMissingData(df)"
      ]
    },
    {
      "cell_type": "markdown",
      "metadata": {},
      "source": [
        "Shifting the data creates 3 rows with missing values. Since the amount of data is minimal and the missing values are at either end, we simply drop the rows with missing data. An imputation method could also be used"
      ]
    },
    {
      "cell_type": "code",
      "execution_count": 21,
      "metadata": {},
      "outputs": [],
      "source": [
        "df = df.dropna()"
      ]
    },
    {
      "cell_type": "code",
      "execution_count": 22,
      "metadata": {},
      "outputs": [
        {
          "data": {
            "text/html": [
              "<div>\n",
              "<style scoped>\n",
              "    .dataframe tbody tr th:only-of-type {\n",
              "        vertical-align: middle;\n",
              "    }\n",
              "\n",
              "    .dataframe tbody tr th {\n",
              "        vertical-align: top;\n",
              "    }\n",
              "\n",
              "    .dataframe thead th {\n",
              "        text-align: right;\n",
              "    }\n",
              "</style>\n",
              "<table border=\"1\" class=\"dataframe\">\n",
              "  <thead>\n",
              "    <tr style=\"text-align: right;\">\n",
              "      <th></th>\n",
              "      <th>RowsWithMissingData</th>\n",
              "      <th>PercentageOfDataset</th>\n",
              "      <th>DataType</th>\n",
              "    </tr>\n",
              "  </thead>\n",
              "  <tbody>\n",
              "  </tbody>\n",
              "</table>\n",
              "</div>"
            ],
            "text/plain": [
              "Empty DataFrame\n",
              "Columns: [RowsWithMissingData, PercentageOfDataset, DataType]\n",
              "Index: []"
            ]
          },
          "execution_count": 22,
          "metadata": {},
          "output_type": "execute_result"
        }
      ],
      "source": [
        "EvaluateMissingData(df)"
      ]
    },
    {
      "cell_type": "markdown",
      "metadata": {},
      "source": [
        "Check the dataframe and shape"
      ]
    },
    {
      "cell_type": "code",
      "execution_count": 23,
      "metadata": {},
      "outputs": [
        {
          "name": "stdout",
          "output_type": "stream",
          "text": [
            "(3785, 27)\n"
          ]
        },
        {
          "data": {
            "text/html": [
              "<div>\n",
              "<style scoped>\n",
              "    .dataframe tbody tr th:only-of-type {\n",
              "        vertical-align: middle;\n",
              "    }\n",
              "\n",
              "    .dataframe tbody tr th {\n",
              "        vertical-align: top;\n",
              "    }\n",
              "\n",
              "    .dataframe thead th {\n",
              "        text-align: right;\n",
              "    }\n",
              "</style>\n",
              "<table border=\"1\" class=\"dataframe\">\n",
              "  <thead>\n",
              "    <tr style=\"text-align: right;\">\n",
              "      <th></th>\n",
              "      <th>year</th>\n",
              "      <th>open</th>\n",
              "      <th>high</th>\n",
              "      <th>low</th>\n",
              "      <th>close</th>\n",
              "      <th>volume</th>\n",
              "      <th>weekday_Monday</th>\n",
              "      <th>weekday_Tuesday</th>\n",
              "      <th>weekday_Wednesday</th>\n",
              "      <th>weekday_Thursday</th>\n",
              "      <th>...</th>\n",
              "      <th>pre_low_2</th>\n",
              "      <th>pre_close</th>\n",
              "      <th>pre_close_2</th>\n",
              "      <th>pre_vol</th>\n",
              "      <th>pre_vol_2</th>\n",
              "      <th>pre_average</th>\n",
              "      <th>pre_average_2</th>\n",
              "      <th>average</th>\n",
              "      <th>tomorrows_average</th>\n",
              "      <th>target</th>\n",
              "    </tr>\n",
              "  </thead>\n",
              "  <tbody>\n",
              "    <tr>\n",
              "      <th>2</th>\n",
              "      <td>2010</td>\n",
              "      <td>497.990021</td>\n",
              "      <td>497.990021</td>\n",
              "      <td>497.990021</td>\n",
              "      <td>497.990021</td>\n",
              "      <td>10729.0</td>\n",
              "      <td>0</td>\n",
              "      <td>0</td>\n",
              "      <td>1</td>\n",
              "      <td>0</td>\n",
              "      <td>...</td>\n",
              "      <td>477.996320</td>\n",
              "      <td>497.990021</td>\n",
              "      <td>497.990021</td>\n",
              "      <td>10729.0</td>\n",
              "      <td>13401.0</td>\n",
              "      <td>502.618155</td>\n",
              "      <td>487.993170</td>\n",
              "      <td>497.990021</td>\n",
              "      <td>505.506095</td>\n",
              "      <td>1</td>\n",
              "    </tr>\n",
              "    <tr>\n",
              "      <th>3</th>\n",
              "      <td>2010</td>\n",
              "      <td>507.468427</td>\n",
              "      <td>507.468427</td>\n",
              "      <td>503.543762</td>\n",
              "      <td>503.543762</td>\n",
              "      <td>6169.0</td>\n",
              "      <td>0</td>\n",
              "      <td>0</td>\n",
              "      <td>0</td>\n",
              "      <td>1</td>\n",
              "      <td>...</td>\n",
              "      <td>507.246289</td>\n",
              "      <td>497.990021</td>\n",
              "      <td>497.990021</td>\n",
              "      <td>10729.0</td>\n",
              "      <td>10729.0</td>\n",
              "      <td>497.990021</td>\n",
              "      <td>502.618155</td>\n",
              "      <td>505.506095</td>\n",
              "      <td>503.543762</td>\n",
              "      <td>0</td>\n",
              "    </tr>\n",
              "    <tr>\n",
              "      <th>4</th>\n",
              "      <td>2010</td>\n",
              "      <td>503.543762</td>\n",
              "      <td>503.543762</td>\n",
              "      <td>503.543762</td>\n",
              "      <td>503.543762</td>\n",
              "      <td>6169.0</td>\n",
              "      <td>0</td>\n",
              "      <td>0</td>\n",
              "      <td>0</td>\n",
              "      <td>0</td>\n",
              "      <td>...</td>\n",
              "      <td>497.990021</td>\n",
              "      <td>503.543762</td>\n",
              "      <td>497.990021</td>\n",
              "      <td>6169.0</td>\n",
              "      <td>10729.0</td>\n",
              "      <td>505.506095</td>\n",
              "      <td>497.990021</td>\n",
              "      <td>503.543762</td>\n",
              "      <td>503.543762</td>\n",
              "      <td>0</td>\n",
              "    </tr>\n",
              "    <tr>\n",
              "      <th>5</th>\n",
              "      <td>2010</td>\n",
              "      <td>503.543762</td>\n",
              "      <td>503.543762</td>\n",
              "      <td>503.543762</td>\n",
              "      <td>503.543762</td>\n",
              "      <td>6169.0</td>\n",
              "      <td>1</td>\n",
              "      <td>0</td>\n",
              "      <td>0</td>\n",
              "      <td>0</td>\n",
              "      <td>...</td>\n",
              "      <td>503.543762</td>\n",
              "      <td>503.543762</td>\n",
              "      <td>503.543762</td>\n",
              "      <td>6169.0</td>\n",
              "      <td>6169.0</td>\n",
              "      <td>503.543762</td>\n",
              "      <td>505.506095</td>\n",
              "      <td>503.543762</td>\n",
              "      <td>499.841217</td>\n",
              "      <td>0</td>\n",
              "    </tr>\n",
              "    <tr>\n",
              "      <th>6</th>\n",
              "      <td>2010</td>\n",
              "      <td>499.841217</td>\n",
              "      <td>499.841217</td>\n",
              "      <td>499.841217</td>\n",
              "      <td>499.841217</td>\n",
              "      <td>6169.0</td>\n",
              "      <td>0</td>\n",
              "      <td>1</td>\n",
              "      <td>0</td>\n",
              "      <td>0</td>\n",
              "      <td>...</td>\n",
              "      <td>503.543762</td>\n",
              "      <td>503.543762</td>\n",
              "      <td>503.543762</td>\n",
              "      <td>6169.0</td>\n",
              "      <td>6169.0</td>\n",
              "      <td>503.543762</td>\n",
              "      <td>503.543762</td>\n",
              "      <td>499.841217</td>\n",
              "      <td>500.174462</td>\n",
              "      <td>1</td>\n",
              "    </tr>\n",
              "    <tr>\n",
              "      <th>...</th>\n",
              "      <td>...</td>\n",
              "      <td>...</td>\n",
              "      <td>...</td>\n",
              "      <td>...</td>\n",
              "      <td>...</td>\n",
              "      <td>...</td>\n",
              "      <td>...</td>\n",
              "      <td>...</td>\n",
              "      <td>...</td>\n",
              "      <td>...</td>\n",
              "      <td>...</td>\n",
              "      <td>...</td>\n",
              "      <td>...</td>\n",
              "      <td>...</td>\n",
              "      <td>...</td>\n",
              "      <td>...</td>\n",
              "      <td>...</td>\n",
              "      <td>...</td>\n",
              "      <td>...</td>\n",
              "      <td>...</td>\n",
              "      <td>...</td>\n",
              "    </tr>\n",
              "    <tr>\n",
              "      <th>3782</th>\n",
              "      <td>2024</td>\n",
              "      <td>499.761560</td>\n",
              "      <td>502.260368</td>\n",
              "      <td>492.964815</td>\n",
              "      <td>500.261322</td>\n",
              "      <td>3415182.0</td>\n",
              "      <td>0</td>\n",
              "      <td>0</td>\n",
              "      <td>0</td>\n",
              "      <td>0</td>\n",
              "      <td>...</td>\n",
              "      <td>502.760109</td>\n",
              "      <td>500.761078</td>\n",
              "      <td>504.759155</td>\n",
              "      <td>1667456.0</td>\n",
              "      <td>1369942.0</td>\n",
              "      <td>501.010959</td>\n",
              "      <td>504.759155</td>\n",
              "      <td>500.011441</td>\n",
              "      <td>499.711570</td>\n",
              "      <td>0</td>\n",
              "    </tr>\n",
              "    <tr>\n",
              "      <th>3783</th>\n",
              "      <td>2024</td>\n",
              "      <td>498.162306</td>\n",
              "      <td>502.260357</td>\n",
              "      <td>496.762980</td>\n",
              "      <td>501.260834</td>\n",
              "      <td>1071229.0</td>\n",
              "      <td>1</td>\n",
              "      <td>0</td>\n",
              "      <td>0</td>\n",
              "      <td>0</td>\n",
              "      <td>...</td>\n",
              "      <td>497.162789</td>\n",
              "      <td>500.261322</td>\n",
              "      <td>500.761078</td>\n",
              "      <td>3415182.0</td>\n",
              "      <td>1667456.0</td>\n",
              "      <td>500.011441</td>\n",
              "      <td>501.010959</td>\n",
              "      <td>499.711570</td>\n",
              "      <td>502.010470</td>\n",
              "      <td>1</td>\n",
              "    </tr>\n",
              "    <tr>\n",
              "      <th>3784</th>\n",
              "      <td>2024</td>\n",
              "      <td>502.260351</td>\n",
              "      <td>505.258920</td>\n",
              "      <td>501.760590</td>\n",
              "      <td>501.760590</td>\n",
              "      <td>436491.0</td>\n",
              "      <td>0</td>\n",
              "      <td>1</td>\n",
              "      <td>0</td>\n",
              "      <td>0</td>\n",
              "      <td>...</td>\n",
              "      <td>492.964815</td>\n",
              "      <td>501.260834</td>\n",
              "      <td>500.261322</td>\n",
              "      <td>1071229.0</td>\n",
              "      <td>3415182.0</td>\n",
              "      <td>499.711570</td>\n",
              "      <td>500.011441</td>\n",
              "      <td>502.010470</td>\n",
              "      <td>501.510728</td>\n",
              "      <td>0</td>\n",
              "    </tr>\n",
              "    <tr>\n",
              "      <th>3785</th>\n",
              "      <td>2024</td>\n",
              "      <td>500.261324</td>\n",
              "      <td>503.759655</td>\n",
              "      <td>500.261324</td>\n",
              "      <td>502.760132</td>\n",
              "      <td>881757.0</td>\n",
              "      <td>0</td>\n",
              "      <td>0</td>\n",
              "      <td>0</td>\n",
              "      <td>0</td>\n",
              "      <td>...</td>\n",
              "      <td>496.762980</td>\n",
              "      <td>501.760590</td>\n",
              "      <td>501.260834</td>\n",
              "      <td>436491.0</td>\n",
              "      <td>1071229.0</td>\n",
              "      <td>502.010470</td>\n",
              "      <td>499.711570</td>\n",
              "      <td>501.510728</td>\n",
              "      <td>501.260839</td>\n",
              "      <td>0</td>\n",
              "    </tr>\n",
              "    <tr>\n",
              "      <th>3786</th>\n",
              "      <td>2024</td>\n",
              "      <td>501.760601</td>\n",
              "      <td>504.759170</td>\n",
              "      <td>498.961948</td>\n",
              "      <td>500.761078</td>\n",
              "      <td>608408.0</td>\n",
              "      <td>1</td>\n",
              "      <td>0</td>\n",
              "      <td>0</td>\n",
              "      <td>0</td>\n",
              "      <td>...</td>\n",
              "      <td>501.760590</td>\n",
              "      <td>502.760132</td>\n",
              "      <td>501.760590</td>\n",
              "      <td>881757.0</td>\n",
              "      <td>436491.0</td>\n",
              "      <td>501.510728</td>\n",
              "      <td>502.010470</td>\n",
              "      <td>501.260839</td>\n",
              "      <td>506.008563</td>\n",
              "      <td>1</td>\n",
              "    </tr>\n",
              "  </tbody>\n",
              "</table>\n",
              "<p>3785 rows × 27 columns</p>\n",
              "</div>"
            ],
            "text/plain": [
              "      year        open        high         low       close     volume  \\\n",
              "2     2010  497.990021  497.990021  497.990021  497.990021    10729.0   \n",
              "3     2010  507.468427  507.468427  503.543762  503.543762     6169.0   \n",
              "4     2010  503.543762  503.543762  503.543762  503.543762     6169.0   \n",
              "5     2010  503.543762  503.543762  503.543762  503.543762     6169.0   \n",
              "6     2010  499.841217  499.841217  499.841217  499.841217     6169.0   \n",
              "...    ...         ...         ...         ...         ...        ...   \n",
              "3782  2024  499.761560  502.260368  492.964815  500.261322  3415182.0   \n",
              "3783  2024  498.162306  502.260357  496.762980  501.260834  1071229.0   \n",
              "3784  2024  502.260351  505.258920  501.760590  501.760590   436491.0   \n",
              "3785  2024  500.261324  503.759655  500.261324  502.760132   881757.0   \n",
              "3786  2024  501.760601  504.759170  498.961948  500.761078   608408.0   \n",
              "\n",
              "      weekday_Monday  weekday_Tuesday  weekday_Wednesday  weekday_Thursday  \\\n",
              "2                  0                0                  1                 0   \n",
              "3                  0                0                  0                 1   \n",
              "4                  0                0                  0                 0   \n",
              "5                  1                0                  0                 0   \n",
              "6                  0                1                  0                 0   \n",
              "...              ...              ...                ...               ...   \n",
              "3782               0                0                  0                 0   \n",
              "3783               1                0                  0                 0   \n",
              "3784               0                1                  0                 0   \n",
              "3785               0                0                  0                 0   \n",
              "3786               1                0                  0                 0   \n",
              "\n",
              "      ...   pre_low_2   pre_close  pre_close_2    pre_vol  pre_vol_2  \\\n",
              "2     ...  477.996320  497.990021   497.990021    10729.0    13401.0   \n",
              "3     ...  507.246289  497.990021   497.990021    10729.0    10729.0   \n",
              "4     ...  497.990021  503.543762   497.990021     6169.0    10729.0   \n",
              "5     ...  503.543762  503.543762   503.543762     6169.0     6169.0   \n",
              "6     ...  503.543762  503.543762   503.543762     6169.0     6169.0   \n",
              "...   ...         ...         ...          ...        ...        ...   \n",
              "3782  ...  502.760109  500.761078   504.759155  1667456.0  1369942.0   \n",
              "3783  ...  497.162789  500.261322   500.761078  3415182.0  1667456.0   \n",
              "3784  ...  492.964815  501.260834   500.261322  1071229.0  3415182.0   \n",
              "3785  ...  496.762980  501.760590   501.260834   436491.0  1071229.0   \n",
              "3786  ...  501.760590  502.760132   501.760590   881757.0   436491.0   \n",
              "\n",
              "      pre_average  pre_average_2     average  tomorrows_average  target  \n",
              "2      502.618155     487.993170  497.990021         505.506095       1  \n",
              "3      497.990021     502.618155  505.506095         503.543762       0  \n",
              "4      505.506095     497.990021  503.543762         503.543762       0  \n",
              "5      503.543762     505.506095  503.543762         499.841217       0  \n",
              "6      503.543762     503.543762  499.841217         500.174462       1  \n",
              "...           ...            ...         ...                ...     ...  \n",
              "3782   501.010959     504.759155  500.011441         499.711570       0  \n",
              "3783   500.011441     501.010959  499.711570         502.010470       1  \n",
              "3784   499.711570     500.011441  502.010470         501.510728       0  \n",
              "3785   502.010470     499.711570  501.510728         501.260839       0  \n",
              "3786   501.510728     502.010470  501.260839         506.008563       1  \n",
              "\n",
              "[3785 rows x 27 columns]"
            ]
          },
          "execution_count": 23,
          "metadata": {},
          "output_type": "execute_result"
        }
      ],
      "source": [
        "print(df.shape)\n",
        "df"
      ]
    },
    {
      "cell_type": "markdown",
      "metadata": {},
      "source": [
        "---"
      ]
    },
    {
      "cell_type": "markdown",
      "metadata": {},
      "source": [
        "## Target Imbalance"
      ]
    },
    {
      "cell_type": "markdown",
      "metadata": {},
      "source": [
        "Purpose: Address situations where one class (for binary classification)\n",
        "\n",
        "* Methods:\n",
        "\n",
        "    * Resampling: Either oversample the minority class or undersample the majority class\n",
        "\n",
        "    * SMOTE (Synthetic Minority Over-sampling Technique): Generate synthetic data points for the minority class"
      ]
    },
    {
      "cell_type": "code",
      "execution_count": 24,
      "metadata": {},
      "outputs": [
        {
          "data": {
            "image/png": "[encoded data removed]",
            "text/plain": [
              "<Figure size 1200x500 with 1 Axes>"
            ]
          },
          "metadata": {},
          "output_type": "display_data"
        }
      ],
      "source": [
        "import seaborn as sns\n",
        "import matplotlib.pyplot as plt\n",
        "%matplotlib inline\n",
        "\n",
        "plt.figure(figsize=(12, 5))\n",
        "sns.countplot(data=df, x='target', hue='target', order=df['target'].value_counts().index)\n",
        "plt.xticks(rotation=90)\n",
        "plt.show()"
      ]
    },
    {
      "cell_type": "markdown",
      "metadata": {},
      "source": [
        "---"
      ]
    },
    {
      "cell_type": "markdown",
      "metadata": {},
      "source": [
        "## Split Train and Test Set"
      ]
    },
    {
      "cell_type": "code",
      "execution_count": 25,
      "metadata": {},
      "outputs": [
        {
          "name": "stdout",
          "output_type": "stream",
          "text": [
            "TrainSet shape: (3028, 27) \n",
            "TestSet shape: (757, 27)\n"
          ]
        }
      ],
      "source": [
        "from sklearn.model_selection import train_test_split\n",
        "TrainSet, TestSet, _, __ = train_test_split(\n",
        "                                        df,\n",
        "                                        df['target'],\n",
        "                                        test_size=0.2,\n",
        "                                        random_state=0)\n",
        "\n",
        "print(f\"TrainSet shape: {TrainSet.shape} \\nTestSet shape: {TestSet.shape}\")"
      ]
    },
    {
      "cell_type": "code",
      "execution_count": 26,
      "metadata": {},
      "outputs": [
        {
          "name": "stdout",
          "output_type": "stream",
          "text": [
            "* There are 0 variables with missing data \n",
            "\n"
          ]
        },
        {
          "data": {
            "text/html": [
              "<div>\n",
              "<style scoped>\n",
              "    .dataframe tbody tr th:only-of-type {\n",
              "        vertical-align: middle;\n",
              "    }\n",
              "\n",
              "    .dataframe tbody tr th {\n",
              "        vertical-align: top;\n",
              "    }\n",
              "\n",
              "    .dataframe thead th {\n",
              "        text-align: right;\n",
              "    }\n",
              "</style>\n",
              "<table border=\"1\" class=\"dataframe\">\n",
              "  <thead>\n",
              "    <tr style=\"text-align: right;\">\n",
              "      <th></th>\n",
              "      <th>RowsWithMissingData</th>\n",
              "      <th>PercentageOfDataset</th>\n",
              "      <th>DataType</th>\n",
              "    </tr>\n",
              "  </thead>\n",
              "  <tbody>\n",
              "  </tbody>\n",
              "</table>\n",
              "</div>"
            ],
            "text/plain": [
              "Empty DataFrame\n",
              "Columns: [RowsWithMissingData, PercentageOfDataset, DataType]\n",
              "Index: []"
            ]
          },
          "execution_count": 26,
          "metadata": {},
          "output_type": "execute_result"
        }
      ],
      "source": [
        "df_missing_data = EvaluateMissingData(TrainSet)\n",
        "print(f\"* There are {df_missing_data.shape[0]} variables with missing data \\n\")\n",
        "df_missing_data"
      ]
    },
    {
      "cell_type": "markdown",
      "metadata": {},
      "source": [
        "---"
      ]
    },
    {
      "cell_type": "markdown",
      "metadata": {
        "id": "ltNetd085qHf"
      },
      "source": [
        "## Save Files and Push to Repo"
      ]
    },
    {
      "cell_type": "markdown",
      "metadata": {},
      "source": [
        "Create output directory and save cleaned csv files"
      ]
    },
    {
      "cell_type": "code",
      "execution_count": 27,
      "metadata": {
        "id": "aKlnIozA4eQO",
        "outputId": "fd09bc1f-adb1-4511-f6ce-492a6af570c0"
      },
      "outputs": [
        {
          "name": "stdout",
          "output_type": "stream",
          "text": [
            "directory outputs/datasets/cleaned created\n"
          ]
        }
      ],
      "source": [
        "dir = 'outputs/datasets/cleaned'\n",
        "try:\n",
        "  os.makedirs(name=dir)\n",
        "  print(f\"directory {dir} created\")\n",
        "except Exception as e:\n",
        "  print(e)"
      ]
    },
    {
      "cell_type": "markdown",
      "metadata": {},
      "source": [
        "## Cleaned Data"
      ]
    },
    {
      "cell_type": "code",
      "execution_count": 28,
      "metadata": {},
      "outputs": [
        {
          "name": "stdout",
          "output_type": "stream",
          "text": [
            "cleaned csv file saved\n"
          ]
        }
      ],
      "source": [
        "df.to_csv(f\"{dir}/phnx_2010_2025.csv\", index=False)\n",
        "print(\"cleaned csv file saved\")"
      ]
    },
    {
      "cell_type": "markdown",
      "metadata": {},
      "source": [
        "## Train Set"
      ]
    },
    {
      "cell_type": "code",
      "execution_count": 29,
      "metadata": {},
      "outputs": [
        {
          "name": "stdout",
          "output_type": "stream",
          "text": [
            "TrainSet csv file saved\n"
          ]
        }
      ],
      "source": [
        "TrainSet.to_csv(f\"{dir}/TrainSetCleaned.csv\", index=False)\n",
        "print(\"TrainSet csv file saved\")"
      ]
    },
    {
      "cell_type": "markdown",
      "metadata": {},
      "source": [
        "## Test Set"
      ]
    },
    {
      "cell_type": "code",
      "execution_count": 30,
      "metadata": {},
      "outputs": [
        {
          "name": "stdout",
          "output_type": "stream",
          "text": [
            "TestSet csv file saved\n"
          ]
        }
      ],
      "source": [
        "TestSet.to_csv(f\"{dir}/TestSetCleaned.csv\", index=False)\n",
        "print(\"TestSet csv file saved\")"
      ]
    }
  ],
  "metadata": {
    "accelerator": "GPU",
    "colab": {
      "name": "Data Practitioner Jupyter Notebook.ipynb",
      "provenance": [],
      "toc_visible": true
    },
    "kernelspec": {
      "display_name": "Python 3",
      "language": "python",
      "name": "python3"
    },
    "language_info": {
      "codemirror_mode": {
        "name": "ipython",
        "version": 3
      },
      "file_extension": ".py",
      "mimetype": "text/x-python",
      "name": "python",
      "nbconvert_exporter": "python",
      "pygments_lexer": "ipython3",
      "version": "3.12.8"
    },
    "orig_nbformat": 2
  },
  "nbformat": 4,
  "nbformat_minor": 2
}
