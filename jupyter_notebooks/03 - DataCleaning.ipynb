{
  "cells": [
    {
      "cell_type": "markdown",
      "metadata": {
        "id": "0aStgWSO0E0E"
      },
      "source": [
        "# **Data Cleaning**"
      ]
    },
    {
      "cell_type": "markdown",
      "metadata": {
        "id": "1eLEkw5O0ECa"
      },
      "source": [
        "## Objectives\n",
        "\n",
        "* Add exploratory lag features and create the target variables \n",
        "* Perform data cleaning and preprocessing\n",
        "\n",
        "## Inputs\n",
        "\n",
        "* outputs/datasets/collection/phnx_2015_2025.csv\n",
        "\n",
        "## Outputs\n",
        "\n",
        "* New exploratory features added\n",
        "* Target variable column defined for classification and regression\n",
        "* Cleaned dataset with consistent formatting and no missing values\n",
        "* Train and Test sets, both saved under outputs/datasets/cleaned\n",
        "\n",
        "## Additional Comments\n",
        "\n",
        "* Lag features and the target variable were added as part of feature engineering, before splitting the data. This was done early to keep the time order correct and avoid data leakage, ensuring the model only learns from past information \n",
        "\n"
      ]
    },
    {
      "cell_type": "markdown",
      "metadata": {
        "id": "9uWZXH9LwoQg"
      },
      "source": [
        "---"
      ]
    },
    {
      "cell_type": "markdown",
      "metadata": {
        "id": "cqP-UeN-z3i2"
      },
      "source": [
        "# Change working directory"
      ]
    },
    {
      "cell_type": "markdown",
      "metadata": {},
      "source": [
        "* We are assuming you will store the notebooks in a subfolder, therefore when running the notebook in the editor, you will need to change the working directory"
      ]
    },
    {
      "cell_type": "markdown",
      "metadata": {
        "id": "aOGIGS-uz3i2"
      },
      "source": [
        "We need to change the working directory from its current folder to its parent folder\n",
        "* We access the current directory with os.getcwd()"
      ]
    },
    {
      "cell_type": "code",
      "execution_count": 1,
      "metadata": {
        "id": "wZfF_j-Bz3i4",
        "outputId": "66943449-1436-4c3d-85c7-b85f9f78349b"
      },
      "outputs": [
        {
          "data": {
            "text/plain": [
              "'c:\\\\Users\\\\ajv10\\\\Documents\\\\vscode-projects\\\\PP5\\\\jupyter_notebooks'"
            ]
          },
          "execution_count": 1,
          "metadata": {},
          "output_type": "execute_result"
        }
      ],
      "source": [
        "import os\n",
        "current_dir = os.getcwd()\n",
        "current_dir"
      ]
    },
    {
      "cell_type": "markdown",
      "metadata": {
        "id": "9MWW8E7lz3i7"
      },
      "source": [
        "We want to make the parent of the current directory the new current directory\n",
        "* os.path.dirname() gets the parent directory\n",
        "* os.chir() defines the new current directory"
      ]
    },
    {
      "cell_type": "code",
      "execution_count": 2,
      "metadata": {
        "id": "TwHsQRWjz3i9",
        "outputId": "86849db3-cd2f-4cc5-ebb8-2d0caafa1a2c"
      },
      "outputs": [
        {
          "name": "stdout",
          "output_type": "stream",
          "text": [
            "You set a new current directory\n"
          ]
        }
      ],
      "source": [
        "os.chdir(os.path.dirname(current_dir))\n",
        "print(\"You set a new current directory\")"
      ]
    },
    {
      "cell_type": "markdown",
      "metadata": {
        "id": "M_xPk_Ijz3i-"
      },
      "source": [
        "Confirm the new current directory"
      ]
    },
    {
      "cell_type": "code",
      "execution_count": 3,
      "metadata": {
        "id": "vz3S-_kjz3jA",
        "outputId": "00b79ae4-75d0-4a96-d193-ac9ef9847ea2"
      },
      "outputs": [
        {
          "data": {
            "text/plain": [
              "'c:\\\\Users\\\\ajv10\\\\Documents\\\\vscode-projects\\\\PP5'"
            ]
          },
          "execution_count": 3,
          "metadata": {},
          "output_type": "execute_result"
        }
      ],
      "source": [
        "current_dir = os.getcwd()\n",
        "current_dir"
      ]
    },
    {
      "cell_type": "markdown",
      "metadata": {},
      "source": [
        "---"
      ]
    },
    {
      "cell_type": "markdown",
      "metadata": {},
      "source": [
        "## Load Data"
      ]
    },
    {
      "cell_type": "code",
      "execution_count": 4,
      "metadata": {},
      "outputs": [
        {
          "data": {
            "text/html": [
              "<div>\n",
              "<style scoped>\n",
              "    .dataframe tbody tr th:only-of-type {\n",
              "        vertical-align: middle;\n",
              "    }\n",
              "\n",
              "    .dataframe tbody tr th {\n",
              "        vertical-align: top;\n",
              "    }\n",
              "\n",
              "    .dataframe thead th {\n",
              "        text-align: right;\n",
              "    }\n",
              "</style>\n",
              "<table border=\"1\" class=\"dataframe\">\n",
              "  <thead>\n",
              "    <tr style=\"text-align: right;\">\n",
              "      <th></th>\n",
              "      <th>date</th>\n",
              "      <th>open</th>\n",
              "      <th>high</th>\n",
              "      <th>low</th>\n",
              "      <th>close</th>\n",
              "      <th>volume</th>\n",
              "      <th>dividends</th>\n",
              "      <th>stock splits</th>\n",
              "    </tr>\n",
              "  </thead>\n",
              "  <tbody>\n",
              "    <tr>\n",
              "      <th>0</th>\n",
              "      <td>2015-01-02 00:00:00+00:00</td>\n",
              "      <td>628.713742</td>\n",
              "      <td>630.618931</td>\n",
              "      <td>620.894841</td>\n",
              "      <td>624.522278</td>\n",
              "      <td>385199</td>\n",
              "      <td>0.0</td>\n",
              "      <td>0.0</td>\n",
              "    </tr>\n",
              "    <tr>\n",
              "      <th>1</th>\n",
              "      <td>2015-01-05 00:00:00+00:00</td>\n",
              "      <td>624.141181</td>\n",
              "      <td>627.951559</td>\n",
              "      <td>610.835330</td>\n",
              "      <td>611.947998</td>\n",
              "      <td>416491</td>\n",
              "      <td>0.0</td>\n",
              "      <td>0.0</td>\n",
              "    </tr>\n",
              "    <tr>\n",
              "      <th>2</th>\n",
              "      <td>2015-01-06 00:00:00+00:00</td>\n",
              "      <td>615.758388</td>\n",
              "      <td>615.758388</td>\n",
              "      <td>597.087463</td>\n",
              "      <td>597.087463</td>\n",
              "      <td>781658</td>\n",
              "      <td>0.0</td>\n",
              "      <td>0.0</td>\n",
              "    </tr>\n",
              "  </tbody>\n",
              "</table>\n",
              "</div>"
            ],
            "text/plain": [
              "                        date        open        high         low       close  \\\n",
              "0  2015-01-02 00:00:00+00:00  628.713742  630.618931  620.894841  624.522278   \n",
              "1  2015-01-05 00:00:00+00:00  624.141181  627.951559  610.835330  611.947998   \n",
              "2  2015-01-06 00:00:00+00:00  615.758388  615.758388  597.087463  597.087463   \n",
              "\n",
              "   volume  dividends  stock splits  \n",
              "0  385199        0.0           0.0  \n",
              "1  416491        0.0           0.0  \n",
              "2  781658        0.0           0.0  "
            ]
          },
          "execution_count": 4,
          "metadata": {},
          "output_type": "execute_result"
        }
      ],
      "source": [
        "import pandas as pd\n",
        "\n",
        "df = pd.read_csv(\"outputs/datasets/collection/phnx_2015_2025.csv\")\n",
        "df.head(3)"
      ]
    },
    {
      "cell_type": "code",
      "execution_count": 5,
      "metadata": {},
      "outputs": [
        {
          "name": "stdout",
          "output_type": "stream",
          "text": [
            "(2526, 8)\n"
          ]
        },
        {
          "data": {
            "text/html": [
              "<div>\n",
              "<style scoped>\n",
              "    .dataframe tbody tr th:only-of-type {\n",
              "        vertical-align: middle;\n",
              "    }\n",
              "\n",
              "    .dataframe tbody tr th {\n",
              "        vertical-align: top;\n",
              "    }\n",
              "\n",
              "    .dataframe thead th {\n",
              "        text-align: right;\n",
              "    }\n",
              "</style>\n",
              "<table border=\"1\" class=\"dataframe\">\n",
              "  <thead>\n",
              "    <tr style=\"text-align: right;\">\n",
              "      <th></th>\n",
              "      <th>date</th>\n",
              "      <th>open</th>\n",
              "      <th>high</th>\n",
              "      <th>low</th>\n",
              "      <th>close</th>\n",
              "      <th>volume</th>\n",
              "      <th>dividends</th>\n",
              "      <th>stock splits</th>\n",
              "    </tr>\n",
              "  </thead>\n",
              "  <tbody>\n",
              "    <tr>\n",
              "      <th>0</th>\n",
              "      <td>2015-01-02 00:00:00+00:00</td>\n",
              "      <td>628.713742</td>\n",
              "      <td>630.618931</td>\n",
              "      <td>620.894841</td>\n",
              "      <td>624.522278</td>\n",
              "      <td>385199</td>\n",
              "      <td>0.0</td>\n",
              "      <td>0.0</td>\n",
              "    </tr>\n",
              "    <tr>\n",
              "      <th>1</th>\n",
              "      <td>2015-01-05 00:00:00+00:00</td>\n",
              "      <td>624.141181</td>\n",
              "      <td>627.951559</td>\n",
              "      <td>610.835330</td>\n",
              "      <td>611.947998</td>\n",
              "      <td>416491</td>\n",
              "      <td>0.0</td>\n",
              "      <td>0.0</td>\n",
              "    </tr>\n",
              "    <tr>\n",
              "      <th>2</th>\n",
              "      <td>2015-01-06 00:00:00+00:00</td>\n",
              "      <td>615.758388</td>\n",
              "      <td>615.758388</td>\n",
              "      <td>597.087463</td>\n",
              "      <td>597.087463</td>\n",
              "      <td>781658</td>\n",
              "      <td>0.0</td>\n",
              "      <td>0.0</td>\n",
              "    </tr>\n",
              "    <tr>\n",
              "      <th>3</th>\n",
              "      <td>2015-01-07 00:00:00+00:00</td>\n",
              "      <td>603.184177</td>\n",
              "      <td>605.447524</td>\n",
              "      <td>597.925840</td>\n",
              "      <td>603.946289</td>\n",
              "      <td>743617</td>\n",
              "      <td>0.0</td>\n",
              "      <td>0.0</td>\n",
              "    </tr>\n",
              "    <tr>\n",
              "      <th>4</th>\n",
              "      <td>2015-01-08 00:00:00+00:00</td>\n",
              "      <td>607.375613</td>\n",
              "      <td>611.948103</td>\n",
              "      <td>605.089338</td>\n",
              "      <td>611.567078</td>\n",
              "      <td>453541</td>\n",
              "      <td>0.0</td>\n",
              "      <td>0.0</td>\n",
              "    </tr>\n",
              "    <tr>\n",
              "      <th>...</th>\n",
              "      <td>...</td>\n",
              "      <td>...</td>\n",
              "      <td>...</td>\n",
              "      <td>...</td>\n",
              "      <td>...</td>\n",
              "      <td>...</td>\n",
              "      <td>...</td>\n",
              "      <td>...</td>\n",
              "    </tr>\n",
              "    <tr>\n",
              "      <th>2521</th>\n",
              "      <td>2024-12-23 00:00:00+00:00</td>\n",
              "      <td>498.162306</td>\n",
              "      <td>502.260357</td>\n",
              "      <td>496.762980</td>\n",
              "      <td>501.260834</td>\n",
              "      <td>1071229</td>\n",
              "      <td>0.0</td>\n",
              "      <td>0.0</td>\n",
              "    </tr>\n",
              "    <tr>\n",
              "      <th>2522</th>\n",
              "      <td>2024-12-24 00:00:00+00:00</td>\n",
              "      <td>502.260351</td>\n",
              "      <td>505.258920</td>\n",
              "      <td>501.760590</td>\n",
              "      <td>501.760590</td>\n",
              "      <td>436491</td>\n",
              "      <td>0.0</td>\n",
              "      <td>0.0</td>\n",
              "    </tr>\n",
              "    <tr>\n",
              "      <th>2523</th>\n",
              "      <td>2024-12-27 00:00:00+00:00</td>\n",
              "      <td>500.261324</td>\n",
              "      <td>503.759655</td>\n",
              "      <td>500.261324</td>\n",
              "      <td>502.760132</td>\n",
              "      <td>881757</td>\n",
              "      <td>0.0</td>\n",
              "      <td>0.0</td>\n",
              "    </tr>\n",
              "    <tr>\n",
              "      <th>2524</th>\n",
              "      <td>2024-12-30 00:00:00+00:00</td>\n",
              "      <td>501.760601</td>\n",
              "      <td>504.759170</td>\n",
              "      <td>498.961948</td>\n",
              "      <td>500.761078</td>\n",
              "      <td>608408</td>\n",
              "      <td>0.0</td>\n",
              "      <td>0.0</td>\n",
              "    </tr>\n",
              "    <tr>\n",
              "      <th>2525</th>\n",
              "      <td>2024-12-31 00:00:00+00:00</td>\n",
              "      <td>502.260352</td>\n",
              "      <td>509.756775</td>\n",
              "      <td>500.523174</td>\n",
              "      <td>509.756775</td>\n",
              "      <td>514204</td>\n",
              "      <td>0.0</td>\n",
              "      <td>0.0</td>\n",
              "    </tr>\n",
              "  </tbody>\n",
              "</table>\n",
              "<p>2526 rows × 8 columns</p>\n",
              "</div>"
            ],
            "text/plain": [
              "                           date        open        high         low  \\\n",
              "0     2015-01-02 00:00:00+00:00  628.713742  630.618931  620.894841   \n",
              "1     2015-01-05 00:00:00+00:00  624.141181  627.951559  610.835330   \n",
              "2     2015-01-06 00:00:00+00:00  615.758388  615.758388  597.087463   \n",
              "3     2015-01-07 00:00:00+00:00  603.184177  605.447524  597.925840   \n",
              "4     2015-01-08 00:00:00+00:00  607.375613  611.948103  605.089338   \n",
              "...                         ...         ...         ...         ...   \n",
              "2521  2024-12-23 00:00:00+00:00  498.162306  502.260357  496.762980   \n",
              "2522  2024-12-24 00:00:00+00:00  502.260351  505.258920  501.760590   \n",
              "2523  2024-12-27 00:00:00+00:00  500.261324  503.759655  500.261324   \n",
              "2524  2024-12-30 00:00:00+00:00  501.760601  504.759170  498.961948   \n",
              "2525  2024-12-31 00:00:00+00:00  502.260352  509.756775  500.523174   \n",
              "\n",
              "           close   volume  dividends  stock splits  \n",
              "0     624.522278   385199        0.0           0.0  \n",
              "1     611.947998   416491        0.0           0.0  \n",
              "2     597.087463   781658        0.0           0.0  \n",
              "3     603.946289   743617        0.0           0.0  \n",
              "4     611.567078   453541        0.0           0.0  \n",
              "...          ...      ...        ...           ...  \n",
              "2521  501.260834  1071229        0.0           0.0  \n",
              "2522  501.760590   436491        0.0           0.0  \n",
              "2523  502.760132   881757        0.0           0.0  \n",
              "2524  500.761078   608408        0.0           0.0  \n",
              "2525  509.756775   514204        0.0           0.0  \n",
              "\n",
              "[2526 rows x 8 columns]"
            ]
          },
          "execution_count": 5,
          "metadata": {},
          "output_type": "execute_result"
        }
      ],
      "source": [
        "df = df.copy()\n",
        "print(df.shape)\n",
        "df"
      ]
    },
    {
      "cell_type": "markdown",
      "metadata": {},
      "source": [
        "---"
      ]
    },
    {
      "cell_type": "markdown",
      "metadata": {},
      "source": [
        "## Feature Extraction"
      ]
    },
    {
      "cell_type": "markdown",
      "metadata": {},
      "source": [
        "Drop 'dividends' and 'stock splits'"
      ]
    },
    {
      "cell_type": "code",
      "execution_count": 6,
      "metadata": {},
      "outputs": [],
      "source": [
        "df = df.drop(['dividends','stock splits'],axis=1)"
      ]
    },
    {
      "cell_type": "markdown",
      "metadata": {},
      "source": [
        "Convert datetime object to a date format to extract the days of the week and the year from the 'date' column"
      ]
    },
    {
      "cell_type": "code",
      "execution_count": 7,
      "metadata": {},
      "outputs": [],
      "source": [
        "df['date'] = pd.to_datetime(df['date'],utc=True)"
      ]
    },
    {
      "cell_type": "code",
      "execution_count": 8,
      "metadata": {},
      "outputs": [],
      "source": [
        "df.insert(1, 'year', df['date'].dt.year)\n",
        "df.insert(2, 'weekday', df['date'].dt.day_name())"
      ]
    },
    {
      "cell_type": "markdown",
      "metadata": {},
      "source": [
        "Drop the date column after extracting the day and year features from it, and one hot encode the days of the week to binary values"
      ]
    },
    {
      "cell_type": "code",
      "execution_count": 9,
      "metadata": {},
      "outputs": [],
      "source": [
        "df = df.drop(['date'],axis=1)"
      ]
    },
    {
      "cell_type": "code",
      "execution_count": 10,
      "metadata": {},
      "outputs": [
        {
          "name": "stdout",
          "output_type": "stream",
          "text": [
            "(2526, 12)\n"
          ]
        },
        {
          "data": {
            "text/html": [
              "<div>\n",
              "<style scoped>\n",
              "    .dataframe tbody tr th:only-of-type {\n",
              "        vertical-align: middle;\n",
              "    }\n",
              "\n",
              "    .dataframe tbody tr th {\n",
              "        vertical-align: top;\n",
              "    }\n",
              "\n",
              "    .dataframe thead th {\n",
              "        text-align: right;\n",
              "    }\n",
              "</style>\n",
              "<table border=\"1\" class=\"dataframe\">\n",
              "  <thead>\n",
              "    <tr style=\"text-align: right;\">\n",
              "      <th></th>\n",
              "      <th>year</th>\n",
              "      <th>open</th>\n",
              "      <th>high</th>\n",
              "      <th>low</th>\n",
              "      <th>close</th>\n",
              "      <th>volume</th>\n",
              "      <th>weekday_Friday</th>\n",
              "      <th>weekday_Monday</th>\n",
              "      <th>weekday_Tuesday</th>\n",
              "      <th>weekday_Wednesday</th>\n",
              "      <th>weekday_Thursday</th>\n",
              "      <th>weekday_Sunday</th>\n",
              "    </tr>\n",
              "  </thead>\n",
              "  <tbody>\n",
              "    <tr>\n",
              "      <th>0</th>\n",
              "      <td>2015</td>\n",
              "      <td>628.713742</td>\n",
              "      <td>630.618931</td>\n",
              "      <td>620.894841</td>\n",
              "      <td>624.522278</td>\n",
              "      <td>385199</td>\n",
              "      <td>1</td>\n",
              "      <td>0</td>\n",
              "      <td>0</td>\n",
              "      <td>0</td>\n",
              "      <td>0</td>\n",
              "      <td>0</td>\n",
              "    </tr>\n",
              "    <tr>\n",
              "      <th>1</th>\n",
              "      <td>2015</td>\n",
              "      <td>624.141181</td>\n",
              "      <td>627.951559</td>\n",
              "      <td>610.835330</td>\n",
              "      <td>611.947998</td>\n",
              "      <td>416491</td>\n",
              "      <td>0</td>\n",
              "      <td>1</td>\n",
              "      <td>0</td>\n",
              "      <td>0</td>\n",
              "      <td>0</td>\n",
              "      <td>0</td>\n",
              "    </tr>\n",
              "    <tr>\n",
              "      <th>2</th>\n",
              "      <td>2015</td>\n",
              "      <td>615.758388</td>\n",
              "      <td>615.758388</td>\n",
              "      <td>597.087463</td>\n",
              "      <td>597.087463</td>\n",
              "      <td>781658</td>\n",
              "      <td>0</td>\n",
              "      <td>0</td>\n",
              "      <td>1</td>\n",
              "      <td>0</td>\n",
              "      <td>0</td>\n",
              "      <td>0</td>\n",
              "    </tr>\n",
              "  </tbody>\n",
              "</table>\n",
              "</div>"
            ],
            "text/plain": [
              "   year        open        high         low       close  volume  \\\n",
              "0  2015  628.713742  630.618931  620.894841  624.522278  385199   \n",
              "1  2015  624.141181  627.951559  610.835330  611.947998  416491   \n",
              "2  2015  615.758388  615.758388  597.087463  597.087463  781658   \n",
              "\n",
              "   weekday_Friday  weekday_Monday  weekday_Tuesday  weekday_Wednesday  \\\n",
              "0               1               0                0                  0   \n",
              "1               0               1                0                  0   \n",
              "2               0               0                1                  0   \n",
              "\n",
              "   weekday_Thursday  weekday_Sunday  \n",
              "0                 0               0  \n",
              "1                 0               0  \n",
              "2                 0               0  "
            ]
          },
          "execution_count": 10,
          "metadata": {},
          "output_type": "execute_result"
        }
      ],
      "source": [
        "from feature_engine.encoding import OneHotEncoder\n",
        "encoder = OneHotEncoder(variables=df.columns[df.dtypes=='object'].to_list(), drop_last=False)\n",
        "df = encoder.fit_transform(df)\n",
        "print(df.shape)\n",
        "df.head(3)"
      ]
    },
    {
      "cell_type": "markdown",
      "metadata": {},
      "source": [
        "Create lag features by shifting previous rows"
      ]
    },
    {
      "cell_type": "code",
      "execution_count": 11,
      "metadata": {},
      "outputs": [],
      "source": [
        "df['pre_open'] = df['open'].shift(+1)\n",
        "df['pre_open_2'] = df['open'].shift(+2)\n",
        "\n",
        "df['pre_high'] = df['high'].shift(+1)\n",
        "df['pre_high_2'] = df['high'].shift(+2)\n",
        "\n",
        "df['pre_low'] = df['low'].shift(+1)\n",
        "df['pre_low_2'] = df['low'].shift(+2)\n",
        "\n",
        "df['pre_close'] = df['close'].shift(+1)\n",
        "df['pre_close_2'] = df['close'].shift(+2)\n",
        "\n",
        "df['pre_vol'] = df['volume'].shift(+1)\n",
        "df['pre_vol_2'] = df['volume'].shift(+2)\n",
        "\n",
        "df['pre_average'] = df[['open', 'close']].mean(axis=1).shift(+1)\n",
        "df['pre_average_2'] = df[['open', 'close']].mean(axis=1).shift(+2)"
      ]
    },
    {
      "cell_type": "markdown",
      "metadata": {},
      "source": [
        "Create an average column using the open and close values. Then, generate a regression target by shifting the average to represent tomorrow’s value. Finally, create a binary classification target by checking if tomorrow’s average is higher than today’s, and assign it an integer label accordingly"
      ]
    },
    {
      "cell_type": "code",
      "execution_count": 12,
      "metadata": {},
      "outputs": [],
      "source": [
        "df['average'] = df[['open', 'close']].mean(axis=1)"
      ]
    },
    {
      "cell_type": "code",
      "execution_count": 13,
      "metadata": {},
      "outputs": [],
      "source": [
        "df['tomorrows_average'] = df[['open', 'close']].mean(axis=1).shift(-1)"
      ]
    },
    {
      "cell_type": "code",
      "execution_count": 14,
      "metadata": {},
      "outputs": [],
      "source": [
        "df['target'] = (df['tomorrows_average'] > df['average']).astype(int)"
      ]
    },
    {
      "cell_type": "markdown",
      "metadata": {},
      "source": [
        "Check the dataframe and shape"
      ]
    },
    {
      "cell_type": "code",
      "execution_count": 15,
      "metadata": {},
      "outputs": [
        {
          "name": "stdout",
          "output_type": "stream",
          "text": [
            "(2526, 27)\n"
          ]
        },
        {
          "data": {
            "text/html": [
              "<div>\n",
              "<style scoped>\n",
              "    .dataframe tbody tr th:only-of-type {\n",
              "        vertical-align: middle;\n",
              "    }\n",
              "\n",
              "    .dataframe tbody tr th {\n",
              "        vertical-align: top;\n",
              "    }\n",
              "\n",
              "    .dataframe thead th {\n",
              "        text-align: right;\n",
              "    }\n",
              "</style>\n",
              "<table border=\"1\" class=\"dataframe\">\n",
              "  <thead>\n",
              "    <tr style=\"text-align: right;\">\n",
              "      <th></th>\n",
              "      <th>year</th>\n",
              "      <th>open</th>\n",
              "      <th>high</th>\n",
              "      <th>low</th>\n",
              "      <th>close</th>\n",
              "      <th>volume</th>\n",
              "      <th>weekday_Friday</th>\n",
              "      <th>weekday_Monday</th>\n",
              "      <th>weekday_Tuesday</th>\n",
              "      <th>weekday_Wednesday</th>\n",
              "      <th>...</th>\n",
              "      <th>pre_low_2</th>\n",
              "      <th>pre_close</th>\n",
              "      <th>pre_close_2</th>\n",
              "      <th>pre_vol</th>\n",
              "      <th>pre_vol_2</th>\n",
              "      <th>pre_average</th>\n",
              "      <th>pre_average_2</th>\n",
              "      <th>average</th>\n",
              "      <th>tomorrows_average</th>\n",
              "      <th>target</th>\n",
              "    </tr>\n",
              "  </thead>\n",
              "  <tbody>\n",
              "    <tr>\n",
              "      <th>0</th>\n",
              "      <td>2015</td>\n",
              "      <td>628.713742</td>\n",
              "      <td>630.618931</td>\n",
              "      <td>620.894841</td>\n",
              "      <td>624.522278</td>\n",
              "      <td>385199</td>\n",
              "      <td>1</td>\n",
              "      <td>0</td>\n",
              "      <td>0</td>\n",
              "      <td>0</td>\n",
              "      <td>...</td>\n",
              "      <td>NaN</td>\n",
              "      <td>NaN</td>\n",
              "      <td>NaN</td>\n",
              "      <td>NaN</td>\n",
              "      <td>NaN</td>\n",
              "      <td>NaN</td>\n",
              "      <td>NaN</td>\n",
              "      <td>626.618010</td>\n",
              "      <td>618.044590</td>\n",
              "      <td>0</td>\n",
              "    </tr>\n",
              "    <tr>\n",
              "      <th>1</th>\n",
              "      <td>2015</td>\n",
              "      <td>624.141181</td>\n",
              "      <td>627.951559</td>\n",
              "      <td>610.835330</td>\n",
              "      <td>611.947998</td>\n",
              "      <td>416491</td>\n",
              "      <td>0</td>\n",
              "      <td>1</td>\n",
              "      <td>0</td>\n",
              "      <td>0</td>\n",
              "      <td>...</td>\n",
              "      <td>NaN</td>\n",
              "      <td>624.522278</td>\n",
              "      <td>NaN</td>\n",
              "      <td>385199.0</td>\n",
              "      <td>NaN</td>\n",
              "      <td>626.618010</td>\n",
              "      <td>NaN</td>\n",
              "      <td>618.044590</td>\n",
              "      <td>606.422926</td>\n",
              "      <td>0</td>\n",
              "    </tr>\n",
              "    <tr>\n",
              "      <th>2</th>\n",
              "      <td>2015</td>\n",
              "      <td>615.758388</td>\n",
              "      <td>615.758388</td>\n",
              "      <td>597.087463</td>\n",
              "      <td>597.087463</td>\n",
              "      <td>781658</td>\n",
              "      <td>0</td>\n",
              "      <td>0</td>\n",
              "      <td>1</td>\n",
              "      <td>0</td>\n",
              "      <td>...</td>\n",
              "      <td>620.894841</td>\n",
              "      <td>611.947998</td>\n",
              "      <td>624.522278</td>\n",
              "      <td>416491.0</td>\n",
              "      <td>385199.0</td>\n",
              "      <td>618.044590</td>\n",
              "      <td>626.618010</td>\n",
              "      <td>606.422926</td>\n",
              "      <td>603.565233</td>\n",
              "      <td>0</td>\n",
              "    </tr>\n",
              "    <tr>\n",
              "      <th>3</th>\n",
              "      <td>2015</td>\n",
              "      <td>603.184177</td>\n",
              "      <td>605.447524</td>\n",
              "      <td>597.925840</td>\n",
              "      <td>603.946289</td>\n",
              "      <td>743617</td>\n",
              "      <td>0</td>\n",
              "      <td>0</td>\n",
              "      <td>0</td>\n",
              "      <td>1</td>\n",
              "      <td>...</td>\n",
              "      <td>610.835330</td>\n",
              "      <td>597.087463</td>\n",
              "      <td>611.947998</td>\n",
              "      <td>781658.0</td>\n",
              "      <td>416491.0</td>\n",
              "      <td>606.422926</td>\n",
              "      <td>618.044590</td>\n",
              "      <td>603.565233</td>\n",
              "      <td>609.471345</td>\n",
              "      <td>1</td>\n",
              "    </tr>\n",
              "    <tr>\n",
              "      <th>4</th>\n",
              "      <td>2015</td>\n",
              "      <td>607.375613</td>\n",
              "      <td>611.948103</td>\n",
              "      <td>605.089338</td>\n",
              "      <td>611.567078</td>\n",
              "      <td>453541</td>\n",
              "      <td>0</td>\n",
              "      <td>0</td>\n",
              "      <td>0</td>\n",
              "      <td>0</td>\n",
              "      <td>...</td>\n",
              "      <td>597.087463</td>\n",
              "      <td>603.946289</td>\n",
              "      <td>597.087463</td>\n",
              "      <td>743617.0</td>\n",
              "      <td>781658.0</td>\n",
              "      <td>603.565233</td>\n",
              "      <td>606.422926</td>\n",
              "      <td>609.471345</td>\n",
              "      <td>611.376429</td>\n",
              "      <td>1</td>\n",
              "    </tr>\n",
              "    <tr>\n",
              "      <th>...</th>\n",
              "      <td>...</td>\n",
              "      <td>...</td>\n",
              "      <td>...</td>\n",
              "      <td>...</td>\n",
              "      <td>...</td>\n",
              "      <td>...</td>\n",
              "      <td>...</td>\n",
              "      <td>...</td>\n",
              "      <td>...</td>\n",
              "      <td>...</td>\n",
              "      <td>...</td>\n",
              "      <td>...</td>\n",
              "      <td>...</td>\n",
              "      <td>...</td>\n",
              "      <td>...</td>\n",
              "      <td>...</td>\n",
              "      <td>...</td>\n",
              "      <td>...</td>\n",
              "      <td>...</td>\n",
              "      <td>...</td>\n",
              "      <td>...</td>\n",
              "    </tr>\n",
              "    <tr>\n",
              "      <th>2521</th>\n",
              "      <td>2024</td>\n",
              "      <td>498.162306</td>\n",
              "      <td>502.260357</td>\n",
              "      <td>496.762980</td>\n",
              "      <td>501.260834</td>\n",
              "      <td>1071229</td>\n",
              "      <td>0</td>\n",
              "      <td>1</td>\n",
              "      <td>0</td>\n",
              "      <td>0</td>\n",
              "      <td>...</td>\n",
              "      <td>497.162789</td>\n",
              "      <td>500.261322</td>\n",
              "      <td>500.761078</td>\n",
              "      <td>3415182.0</td>\n",
              "      <td>1667456.0</td>\n",
              "      <td>500.011441</td>\n",
              "      <td>501.010959</td>\n",
              "      <td>499.711570</td>\n",
              "      <td>502.010470</td>\n",
              "      <td>1</td>\n",
              "    </tr>\n",
              "    <tr>\n",
              "      <th>2522</th>\n",
              "      <td>2024</td>\n",
              "      <td>502.260351</td>\n",
              "      <td>505.258920</td>\n",
              "      <td>501.760590</td>\n",
              "      <td>501.760590</td>\n",
              "      <td>436491</td>\n",
              "      <td>0</td>\n",
              "      <td>0</td>\n",
              "      <td>1</td>\n",
              "      <td>0</td>\n",
              "      <td>...</td>\n",
              "      <td>492.964815</td>\n",
              "      <td>501.260834</td>\n",
              "      <td>500.261322</td>\n",
              "      <td>1071229.0</td>\n",
              "      <td>3415182.0</td>\n",
              "      <td>499.711570</td>\n",
              "      <td>500.011441</td>\n",
              "      <td>502.010470</td>\n",
              "      <td>501.510728</td>\n",
              "      <td>0</td>\n",
              "    </tr>\n",
              "    <tr>\n",
              "      <th>2523</th>\n",
              "      <td>2024</td>\n",
              "      <td>500.261324</td>\n",
              "      <td>503.759655</td>\n",
              "      <td>500.261324</td>\n",
              "      <td>502.760132</td>\n",
              "      <td>881757</td>\n",
              "      <td>1</td>\n",
              "      <td>0</td>\n",
              "      <td>0</td>\n",
              "      <td>0</td>\n",
              "      <td>...</td>\n",
              "      <td>496.762980</td>\n",
              "      <td>501.760590</td>\n",
              "      <td>501.260834</td>\n",
              "      <td>436491.0</td>\n",
              "      <td>1071229.0</td>\n",
              "      <td>502.010470</td>\n",
              "      <td>499.711570</td>\n",
              "      <td>501.510728</td>\n",
              "      <td>501.260839</td>\n",
              "      <td>0</td>\n",
              "    </tr>\n",
              "    <tr>\n",
              "      <th>2524</th>\n",
              "      <td>2024</td>\n",
              "      <td>501.760601</td>\n",
              "      <td>504.759170</td>\n",
              "      <td>498.961948</td>\n",
              "      <td>500.761078</td>\n",
              "      <td>608408</td>\n",
              "      <td>0</td>\n",
              "      <td>1</td>\n",
              "      <td>0</td>\n",
              "      <td>0</td>\n",
              "      <td>...</td>\n",
              "      <td>501.760590</td>\n",
              "      <td>502.760132</td>\n",
              "      <td>501.760590</td>\n",
              "      <td>881757.0</td>\n",
              "      <td>436491.0</td>\n",
              "      <td>501.510728</td>\n",
              "      <td>502.010470</td>\n",
              "      <td>501.260839</td>\n",
              "      <td>506.008563</td>\n",
              "      <td>1</td>\n",
              "    </tr>\n",
              "    <tr>\n",
              "      <th>2525</th>\n",
              "      <td>2024</td>\n",
              "      <td>502.260352</td>\n",
              "      <td>509.756775</td>\n",
              "      <td>500.523174</td>\n",
              "      <td>509.756775</td>\n",
              "      <td>514204</td>\n",
              "      <td>0</td>\n",
              "      <td>0</td>\n",
              "      <td>1</td>\n",
              "      <td>0</td>\n",
              "      <td>...</td>\n",
              "      <td>500.261324</td>\n",
              "      <td>500.761078</td>\n",
              "      <td>502.760132</td>\n",
              "      <td>608408.0</td>\n",
              "      <td>881757.0</td>\n",
              "      <td>501.260839</td>\n",
              "      <td>501.510728</td>\n",
              "      <td>506.008563</td>\n",
              "      <td>NaN</td>\n",
              "      <td>0</td>\n",
              "    </tr>\n",
              "  </tbody>\n",
              "</table>\n",
              "<p>2526 rows × 27 columns</p>\n",
              "</div>"
            ],
            "text/plain": [
              "      year        open        high         low       close   volume  \\\n",
              "0     2015  628.713742  630.618931  620.894841  624.522278   385199   \n",
              "1     2015  624.141181  627.951559  610.835330  611.947998   416491   \n",
              "2     2015  615.758388  615.758388  597.087463  597.087463   781658   \n",
              "3     2015  603.184177  605.447524  597.925840  603.946289   743617   \n",
              "4     2015  607.375613  611.948103  605.089338  611.567078   453541   \n",
              "...    ...         ...         ...         ...         ...      ...   \n",
              "2521  2024  498.162306  502.260357  496.762980  501.260834  1071229   \n",
              "2522  2024  502.260351  505.258920  501.760590  501.760590   436491   \n",
              "2523  2024  500.261324  503.759655  500.261324  502.760132   881757   \n",
              "2524  2024  501.760601  504.759170  498.961948  500.761078   608408   \n",
              "2525  2024  502.260352  509.756775  500.523174  509.756775   514204   \n",
              "\n",
              "      weekday_Friday  weekday_Monday  weekday_Tuesday  weekday_Wednesday  ...  \\\n",
              "0                  1               0                0                  0  ...   \n",
              "1                  0               1                0                  0  ...   \n",
              "2                  0               0                1                  0  ...   \n",
              "3                  0               0                0                  1  ...   \n",
              "4                  0               0                0                  0  ...   \n",
              "...              ...             ...              ...                ...  ...   \n",
              "2521               0               1                0                  0  ...   \n",
              "2522               0               0                1                  0  ...   \n",
              "2523               1               0                0                  0  ...   \n",
              "2524               0               1                0                  0  ...   \n",
              "2525               0               0                1                  0  ...   \n",
              "\n",
              "       pre_low_2   pre_close  pre_close_2    pre_vol  pre_vol_2  pre_average  \\\n",
              "0            NaN         NaN          NaN        NaN        NaN          NaN   \n",
              "1            NaN  624.522278          NaN   385199.0        NaN   626.618010   \n",
              "2     620.894841  611.947998   624.522278   416491.0   385199.0   618.044590   \n",
              "3     610.835330  597.087463   611.947998   781658.0   416491.0   606.422926   \n",
              "4     597.087463  603.946289   597.087463   743617.0   781658.0   603.565233   \n",
              "...          ...         ...          ...        ...        ...          ...   \n",
              "2521  497.162789  500.261322   500.761078  3415182.0  1667456.0   500.011441   \n",
              "2522  492.964815  501.260834   500.261322  1071229.0  3415182.0   499.711570   \n",
              "2523  496.762980  501.760590   501.260834   436491.0  1071229.0   502.010470   \n",
              "2524  501.760590  502.760132   501.760590   881757.0   436491.0   501.510728   \n",
              "2525  500.261324  500.761078   502.760132   608408.0   881757.0   501.260839   \n",
              "\n",
              "      pre_average_2     average  tomorrows_average  target  \n",
              "0               NaN  626.618010         618.044590       0  \n",
              "1               NaN  618.044590         606.422926       0  \n",
              "2        626.618010  606.422926         603.565233       0  \n",
              "3        618.044590  603.565233         609.471345       1  \n",
              "4        606.422926  609.471345         611.376429       1  \n",
              "...             ...         ...                ...     ...  \n",
              "2521     501.010959  499.711570         502.010470       1  \n",
              "2522     500.011441  502.010470         501.510728       0  \n",
              "2523     499.711570  501.510728         501.260839       0  \n",
              "2524     502.010470  501.260839         506.008563       1  \n",
              "2525     501.510728  506.008563                NaN       0  \n",
              "\n",
              "[2526 rows x 27 columns]"
            ]
          },
          "execution_count": 15,
          "metadata": {},
          "output_type": "execute_result"
        }
      ],
      "source": [
        "print(df.shape)\n",
        "df"
      ]
    },
    {
      "cell_type": "markdown",
      "metadata": {},
      "source": [
        "---"
      ]
    },
    {
      "cell_type": "markdown",
      "metadata": {},
      "source": [
        "## Assessing Missing Data Levels"
      ]
    },
    {
      "cell_type": "code",
      "execution_count": 16,
      "metadata": {},
      "outputs": [
        {
          "data": {
            "text/plain": [
              "['pre_open',\n",
              " 'pre_open_2',\n",
              " 'pre_high',\n",
              " 'pre_high_2',\n",
              " 'pre_low',\n",
              " 'pre_low_2',\n",
              " 'pre_close',\n",
              " 'pre_close_2',\n",
              " 'pre_vol',\n",
              " 'pre_vol_2',\n",
              " 'pre_average',\n",
              " 'pre_average_2',\n",
              " 'tomorrows_average']"
            ]
          },
          "execution_count": 16,
          "metadata": {},
          "output_type": "execute_result"
        }
      ],
      "source": [
        "vars_with_missing_data = df.columns[df.isna().sum() > 0].to_list()\n",
        "vars_with_missing_data"
      ]
    },
    {
      "cell_type": "code",
      "execution_count": 17,
      "metadata": {},
      "outputs": [],
      "source": [
        "def EvaluateMissingData(df):\n",
        "    missing_data_absolute = df.isnull().sum()\n",
        "    missing_data_percentage = round(missing_data_absolute/len(df)*100, 2)\n",
        "    df_missing_data = (pd.DataFrame(\n",
        "                            data={\"RowsWithMissingData\": missing_data_absolute,\n",
        "                                   \"PercentageOfDataset\": missing_data_percentage,\n",
        "                                   \"DataType\": df.dtypes}\n",
        "                                    )\n",
        "                          .sort_values(by=['PercentageOfDataset'], ascending=False)\n",
        "                          .query(\"PercentageOfDataset > 0\")\n",
        "                          )\n",
        "\n",
        "    return df_missing_data"
      ]
    },
    {
      "cell_type": "code",
      "execution_count": 18,
      "metadata": {},
      "outputs": [
        {
          "data": {
            "text/html": [
              "<div>\n",
              "<style scoped>\n",
              "    .dataframe tbody tr th:only-of-type {\n",
              "        vertical-align: middle;\n",
              "    }\n",
              "\n",
              "    .dataframe tbody tr th {\n",
              "        vertical-align: top;\n",
              "    }\n",
              "\n",
              "    .dataframe thead th {\n",
              "        text-align: right;\n",
              "    }\n",
              "</style>\n",
              "<table border=\"1\" class=\"dataframe\">\n",
              "  <thead>\n",
              "    <tr style=\"text-align: right;\">\n",
              "      <th></th>\n",
              "      <th>RowsWithMissingData</th>\n",
              "      <th>PercentageOfDataset</th>\n",
              "      <th>DataType</th>\n",
              "    </tr>\n",
              "  </thead>\n",
              "  <tbody>\n",
              "    <tr>\n",
              "      <th>pre_open_2</th>\n",
              "      <td>2</td>\n",
              "      <td>0.08</td>\n",
              "      <td>float64</td>\n",
              "    </tr>\n",
              "    <tr>\n",
              "      <th>pre_average_2</th>\n",
              "      <td>2</td>\n",
              "      <td>0.08</td>\n",
              "      <td>float64</td>\n",
              "    </tr>\n",
              "    <tr>\n",
              "      <th>pre_vol_2</th>\n",
              "      <td>2</td>\n",
              "      <td>0.08</td>\n",
              "      <td>float64</td>\n",
              "    </tr>\n",
              "    <tr>\n",
              "      <th>pre_close_2</th>\n",
              "      <td>2</td>\n",
              "      <td>0.08</td>\n",
              "      <td>float64</td>\n",
              "    </tr>\n",
              "    <tr>\n",
              "      <th>pre_low_2</th>\n",
              "      <td>2</td>\n",
              "      <td>0.08</td>\n",
              "      <td>float64</td>\n",
              "    </tr>\n",
              "    <tr>\n",
              "      <th>pre_high_2</th>\n",
              "      <td>2</td>\n",
              "      <td>0.08</td>\n",
              "      <td>float64</td>\n",
              "    </tr>\n",
              "    <tr>\n",
              "      <th>pre_high</th>\n",
              "      <td>1</td>\n",
              "      <td>0.04</td>\n",
              "      <td>float64</td>\n",
              "    </tr>\n",
              "    <tr>\n",
              "      <th>tomorrows_average</th>\n",
              "      <td>1</td>\n",
              "      <td>0.04</td>\n",
              "      <td>float64</td>\n",
              "    </tr>\n",
              "    <tr>\n",
              "      <th>pre_average</th>\n",
              "      <td>1</td>\n",
              "      <td>0.04</td>\n",
              "      <td>float64</td>\n",
              "    </tr>\n",
              "    <tr>\n",
              "      <th>pre_vol</th>\n",
              "      <td>1</td>\n",
              "      <td>0.04</td>\n",
              "      <td>float64</td>\n",
              "    </tr>\n",
              "    <tr>\n",
              "      <th>pre_close</th>\n",
              "      <td>1</td>\n",
              "      <td>0.04</td>\n",
              "      <td>float64</td>\n",
              "    </tr>\n",
              "    <tr>\n",
              "      <th>pre_low</th>\n",
              "      <td>1</td>\n",
              "      <td>0.04</td>\n",
              "      <td>float64</td>\n",
              "    </tr>\n",
              "    <tr>\n",
              "      <th>pre_open</th>\n",
              "      <td>1</td>\n",
              "      <td>0.04</td>\n",
              "      <td>float64</td>\n",
              "    </tr>\n",
              "  </tbody>\n",
              "</table>\n",
              "</div>"
            ],
            "text/plain": [
              "                   RowsWithMissingData  PercentageOfDataset DataType\n",
              "pre_open_2                           2                 0.08  float64\n",
              "pre_average_2                        2                 0.08  float64\n",
              "pre_vol_2                            2                 0.08  float64\n",
              "pre_close_2                          2                 0.08  float64\n",
              "pre_low_2                            2                 0.08  float64\n",
              "pre_high_2                           2                 0.08  float64\n",
              "pre_high                             1                 0.04  float64\n",
              "tomorrows_average                    1                 0.04  float64\n",
              "pre_average                          1                 0.04  float64\n",
              "pre_vol                              1                 0.04  float64\n",
              "pre_close                            1                 0.04  float64\n",
              "pre_low                              1                 0.04  float64\n",
              "pre_open                             1                 0.04  float64"
            ]
          },
          "execution_count": 18,
          "metadata": {},
          "output_type": "execute_result"
        }
      ],
      "source": [
        "\n",
        "EvaluateMissingData(df)"
      ]
    },
    {
      "cell_type": "markdown",
      "metadata": {},
      "source": [
        "---"
      ]
    },
    {
      "cell_type": "markdown",
      "metadata": {},
      "source": [
        "## Imputation"
      ]
    },
    {
      "cell_type": "markdown",
      "metadata": {},
      "source": [
        "Shifting the data creates 3 rows with missing values. Since the amount of data is minimal and the missing values are at either end, we simply drop the rows with missing data. An imputation method could also be used"
      ]
    },
    {
      "cell_type": "markdown",
      "metadata": {},
      "source": [
        "Purpose: Imputation is used to fill in missing values in your dataset\n",
        "\n",
        "* Methods:\n",
        "\n",
        "    * Mean, Median, Mode imputation: Fill missing values with the mean, median, or mode of that feature\n",
        "\n",
        "    * Forward/Backward Fill: Use adjacent values to fill missing data"
      ]
    },
    {
      "cell_type": "code",
      "execution_count": 19,
      "metadata": {},
      "outputs": [
        {
          "name": "stdout",
          "output_type": "stream",
          "text": [
            "(2523, 27)\n"
          ]
        },
        {
          "data": {
            "text/html": [
              "<div>\n",
              "<style scoped>\n",
              "    .dataframe tbody tr th:only-of-type {\n",
              "        vertical-align: middle;\n",
              "    }\n",
              "\n",
              "    .dataframe tbody tr th {\n",
              "        vertical-align: top;\n",
              "    }\n",
              "\n",
              "    .dataframe thead th {\n",
              "        text-align: right;\n",
              "    }\n",
              "</style>\n",
              "<table border=\"1\" class=\"dataframe\">\n",
              "  <thead>\n",
              "    <tr style=\"text-align: right;\">\n",
              "      <th></th>\n",
              "      <th>year</th>\n",
              "      <th>open</th>\n",
              "      <th>high</th>\n",
              "      <th>low</th>\n",
              "      <th>close</th>\n",
              "      <th>volume</th>\n",
              "      <th>weekday_Friday</th>\n",
              "      <th>weekday_Monday</th>\n",
              "      <th>weekday_Tuesday</th>\n",
              "      <th>weekday_Wednesday</th>\n",
              "      <th>...</th>\n",
              "      <th>pre_low_2</th>\n",
              "      <th>pre_close</th>\n",
              "      <th>pre_close_2</th>\n",
              "      <th>pre_vol</th>\n",
              "      <th>pre_vol_2</th>\n",
              "      <th>pre_average</th>\n",
              "      <th>pre_average_2</th>\n",
              "      <th>average</th>\n",
              "      <th>tomorrows_average</th>\n",
              "      <th>target</th>\n",
              "    </tr>\n",
              "  </thead>\n",
              "  <tbody>\n",
              "    <tr>\n",
              "      <th>2</th>\n",
              "      <td>2015</td>\n",
              "      <td>615.758388</td>\n",
              "      <td>615.758388</td>\n",
              "      <td>597.087463</td>\n",
              "      <td>597.087463</td>\n",
              "      <td>781658</td>\n",
              "      <td>0</td>\n",
              "      <td>0</td>\n",
              "      <td>1</td>\n",
              "      <td>0</td>\n",
              "      <td>...</td>\n",
              "      <td>620.894841</td>\n",
              "      <td>611.947998</td>\n",
              "      <td>624.522278</td>\n",
              "      <td>416491.0</td>\n",
              "      <td>385199.0</td>\n",
              "      <td>618.044590</td>\n",
              "      <td>626.618010</td>\n",
              "      <td>606.422926</td>\n",
              "      <td>603.565233</td>\n",
              "      <td>0</td>\n",
              "    </tr>\n",
              "    <tr>\n",
              "      <th>3</th>\n",
              "      <td>2015</td>\n",
              "      <td>603.184177</td>\n",
              "      <td>605.447524</td>\n",
              "      <td>597.925840</td>\n",
              "      <td>603.946289</td>\n",
              "      <td>743617</td>\n",
              "      <td>0</td>\n",
              "      <td>0</td>\n",
              "      <td>0</td>\n",
              "      <td>1</td>\n",
              "      <td>...</td>\n",
              "      <td>610.835330</td>\n",
              "      <td>597.087463</td>\n",
              "      <td>611.947998</td>\n",
              "      <td>781658.0</td>\n",
              "      <td>416491.0</td>\n",
              "      <td>606.422926</td>\n",
              "      <td>618.044590</td>\n",
              "      <td>603.565233</td>\n",
              "      <td>609.471345</td>\n",
              "      <td>1</td>\n",
              "    </tr>\n",
              "    <tr>\n",
              "      <th>4</th>\n",
              "      <td>2015</td>\n",
              "      <td>607.375613</td>\n",
              "      <td>611.948103</td>\n",
              "      <td>605.089338</td>\n",
              "      <td>611.567078</td>\n",
              "      <td>453541</td>\n",
              "      <td>0</td>\n",
              "      <td>0</td>\n",
              "      <td>0</td>\n",
              "      <td>0</td>\n",
              "      <td>...</td>\n",
              "      <td>597.087463</td>\n",
              "      <td>603.946289</td>\n",
              "      <td>597.087463</td>\n",
              "      <td>743617.0</td>\n",
              "      <td>781658.0</td>\n",
              "      <td>603.565233</td>\n",
              "      <td>606.422926</td>\n",
              "      <td>609.471345</td>\n",
              "      <td>611.376429</td>\n",
              "      <td>1</td>\n",
              "    </tr>\n",
              "    <tr>\n",
              "      <th>5</th>\n",
              "      <td>2015</td>\n",
              "      <td>610.804860</td>\n",
              "      <td>616.139340</td>\n",
              "      <td>607.756534</td>\n",
              "      <td>611.947998</td>\n",
              "      <td>404476</td>\n",
              "      <td>1</td>\n",
              "      <td>0</td>\n",
              "      <td>0</td>\n",
              "      <td>0</td>\n",
              "      <td>...</td>\n",
              "      <td>597.925840</td>\n",
              "      <td>611.567078</td>\n",
              "      <td>603.946289</td>\n",
              "      <td>453541.0</td>\n",
              "      <td>743617.0</td>\n",
              "      <td>609.471345</td>\n",
              "      <td>603.565233</td>\n",
              "      <td>611.376429</td>\n",
              "      <td>613.091129</td>\n",
              "      <td>1</td>\n",
              "    </tr>\n",
              "    <tr>\n",
              "      <th>6</th>\n",
              "      <td>2015</td>\n",
              "      <td>615.758369</td>\n",
              "      <td>617.282533</td>\n",
              "      <td>607.375563</td>\n",
              "      <td>610.423889</td>\n",
              "      <td>361651</td>\n",
              "      <td>0</td>\n",
              "      <td>1</td>\n",
              "      <td>0</td>\n",
              "      <td>0</td>\n",
              "      <td>...</td>\n",
              "      <td>605.089338</td>\n",
              "      <td>611.947998</td>\n",
              "      <td>611.567078</td>\n",
              "      <td>404476.0</td>\n",
              "      <td>453541.0</td>\n",
              "      <td>611.376429</td>\n",
              "      <td>609.471345</td>\n",
              "      <td>613.091129</td>\n",
              "      <td>621.664511</td>\n",
              "      <td>1</td>\n",
              "    </tr>\n",
              "    <tr>\n",
              "      <th>...</th>\n",
              "      <td>...</td>\n",
              "      <td>...</td>\n",
              "      <td>...</td>\n",
              "      <td>...</td>\n",
              "      <td>...</td>\n",
              "      <td>...</td>\n",
              "      <td>...</td>\n",
              "      <td>...</td>\n",
              "      <td>...</td>\n",
              "      <td>...</td>\n",
              "      <td>...</td>\n",
              "      <td>...</td>\n",
              "      <td>...</td>\n",
              "      <td>...</td>\n",
              "      <td>...</td>\n",
              "      <td>...</td>\n",
              "      <td>...</td>\n",
              "      <td>...</td>\n",
              "      <td>...</td>\n",
              "      <td>...</td>\n",
              "      <td>...</td>\n",
              "    </tr>\n",
              "    <tr>\n",
              "      <th>2520</th>\n",
              "      <td>2024</td>\n",
              "      <td>499.761560</td>\n",
              "      <td>502.260368</td>\n",
              "      <td>492.964815</td>\n",
              "      <td>500.261322</td>\n",
              "      <td>3415182</td>\n",
              "      <td>1</td>\n",
              "      <td>0</td>\n",
              "      <td>0</td>\n",
              "      <td>0</td>\n",
              "      <td>...</td>\n",
              "      <td>502.760109</td>\n",
              "      <td>500.761078</td>\n",
              "      <td>504.759155</td>\n",
              "      <td>1667456.0</td>\n",
              "      <td>1369942.0</td>\n",
              "      <td>501.010959</td>\n",
              "      <td>504.759155</td>\n",
              "      <td>500.011441</td>\n",
              "      <td>499.711570</td>\n",
              "      <td>0</td>\n",
              "    </tr>\n",
              "    <tr>\n",
              "      <th>2521</th>\n",
              "      <td>2024</td>\n",
              "      <td>498.162306</td>\n",
              "      <td>502.260357</td>\n",
              "      <td>496.762980</td>\n",
              "      <td>501.260834</td>\n",
              "      <td>1071229</td>\n",
              "      <td>0</td>\n",
              "      <td>1</td>\n",
              "      <td>0</td>\n",
              "      <td>0</td>\n",
              "      <td>...</td>\n",
              "      <td>497.162789</td>\n",
              "      <td>500.261322</td>\n",
              "      <td>500.761078</td>\n",
              "      <td>3415182.0</td>\n",
              "      <td>1667456.0</td>\n",
              "      <td>500.011441</td>\n",
              "      <td>501.010959</td>\n",
              "      <td>499.711570</td>\n",
              "      <td>502.010470</td>\n",
              "      <td>1</td>\n",
              "    </tr>\n",
              "    <tr>\n",
              "      <th>2522</th>\n",
              "      <td>2024</td>\n",
              "      <td>502.260351</td>\n",
              "      <td>505.258920</td>\n",
              "      <td>501.760590</td>\n",
              "      <td>501.760590</td>\n",
              "      <td>436491</td>\n",
              "      <td>0</td>\n",
              "      <td>0</td>\n",
              "      <td>1</td>\n",
              "      <td>0</td>\n",
              "      <td>...</td>\n",
              "      <td>492.964815</td>\n",
              "      <td>501.260834</td>\n",
              "      <td>500.261322</td>\n",
              "      <td>1071229.0</td>\n",
              "      <td>3415182.0</td>\n",
              "      <td>499.711570</td>\n",
              "      <td>500.011441</td>\n",
              "      <td>502.010470</td>\n",
              "      <td>501.510728</td>\n",
              "      <td>0</td>\n",
              "    </tr>\n",
              "    <tr>\n",
              "      <th>2523</th>\n",
              "      <td>2024</td>\n",
              "      <td>500.261324</td>\n",
              "      <td>503.759655</td>\n",
              "      <td>500.261324</td>\n",
              "      <td>502.760132</td>\n",
              "      <td>881757</td>\n",
              "      <td>1</td>\n",
              "      <td>0</td>\n",
              "      <td>0</td>\n",
              "      <td>0</td>\n",
              "      <td>...</td>\n",
              "      <td>496.762980</td>\n",
              "      <td>501.760590</td>\n",
              "      <td>501.260834</td>\n",
              "      <td>436491.0</td>\n",
              "      <td>1071229.0</td>\n",
              "      <td>502.010470</td>\n",
              "      <td>499.711570</td>\n",
              "      <td>501.510728</td>\n",
              "      <td>501.260839</td>\n",
              "      <td>0</td>\n",
              "    </tr>\n",
              "    <tr>\n",
              "      <th>2524</th>\n",
              "      <td>2024</td>\n",
              "      <td>501.760601</td>\n",
              "      <td>504.759170</td>\n",
              "      <td>498.961948</td>\n",
              "      <td>500.761078</td>\n",
              "      <td>608408</td>\n",
              "      <td>0</td>\n",
              "      <td>1</td>\n",
              "      <td>0</td>\n",
              "      <td>0</td>\n",
              "      <td>...</td>\n",
              "      <td>501.760590</td>\n",
              "      <td>502.760132</td>\n",
              "      <td>501.760590</td>\n",
              "      <td>881757.0</td>\n",
              "      <td>436491.0</td>\n",
              "      <td>501.510728</td>\n",
              "      <td>502.010470</td>\n",
              "      <td>501.260839</td>\n",
              "      <td>506.008563</td>\n",
              "      <td>1</td>\n",
              "    </tr>\n",
              "  </tbody>\n",
              "</table>\n",
              "<p>2523 rows × 27 columns</p>\n",
              "</div>"
            ],
            "text/plain": [
              "      year        open        high         low       close   volume  \\\n",
              "2     2015  615.758388  615.758388  597.087463  597.087463   781658   \n",
              "3     2015  603.184177  605.447524  597.925840  603.946289   743617   \n",
              "4     2015  607.375613  611.948103  605.089338  611.567078   453541   \n",
              "5     2015  610.804860  616.139340  607.756534  611.947998   404476   \n",
              "6     2015  615.758369  617.282533  607.375563  610.423889   361651   \n",
              "...    ...         ...         ...         ...         ...      ...   \n",
              "2520  2024  499.761560  502.260368  492.964815  500.261322  3415182   \n",
              "2521  2024  498.162306  502.260357  496.762980  501.260834  1071229   \n",
              "2522  2024  502.260351  505.258920  501.760590  501.760590   436491   \n",
              "2523  2024  500.261324  503.759655  500.261324  502.760132   881757   \n",
              "2524  2024  501.760601  504.759170  498.961948  500.761078   608408   \n",
              "\n",
              "      weekday_Friday  weekday_Monday  weekday_Tuesday  weekday_Wednesday  ...  \\\n",
              "2                  0               0                1                  0  ...   \n",
              "3                  0               0                0                  1  ...   \n",
              "4                  0               0                0                  0  ...   \n",
              "5                  1               0                0                  0  ...   \n",
              "6                  0               1                0                  0  ...   \n",
              "...              ...             ...              ...                ...  ...   \n",
              "2520               1               0                0                  0  ...   \n",
              "2521               0               1                0                  0  ...   \n",
              "2522               0               0                1                  0  ...   \n",
              "2523               1               0                0                  0  ...   \n",
              "2524               0               1                0                  0  ...   \n",
              "\n",
              "       pre_low_2   pre_close  pre_close_2    pre_vol  pre_vol_2  pre_average  \\\n",
              "2     620.894841  611.947998   624.522278   416491.0   385199.0   618.044590   \n",
              "3     610.835330  597.087463   611.947998   781658.0   416491.0   606.422926   \n",
              "4     597.087463  603.946289   597.087463   743617.0   781658.0   603.565233   \n",
              "5     597.925840  611.567078   603.946289   453541.0   743617.0   609.471345   \n",
              "6     605.089338  611.947998   611.567078   404476.0   453541.0   611.376429   \n",
              "...          ...         ...          ...        ...        ...          ...   \n",
              "2520  502.760109  500.761078   504.759155  1667456.0  1369942.0   501.010959   \n",
              "2521  497.162789  500.261322   500.761078  3415182.0  1667456.0   500.011441   \n",
              "2522  492.964815  501.260834   500.261322  1071229.0  3415182.0   499.711570   \n",
              "2523  496.762980  501.760590   501.260834   436491.0  1071229.0   502.010470   \n",
              "2524  501.760590  502.760132   501.760590   881757.0   436491.0   501.510728   \n",
              "\n",
              "      pre_average_2     average  tomorrows_average  target  \n",
              "2        626.618010  606.422926         603.565233       0  \n",
              "3        618.044590  603.565233         609.471345       1  \n",
              "4        606.422926  609.471345         611.376429       1  \n",
              "5        603.565233  611.376429         613.091129       1  \n",
              "6        609.471345  613.091129         621.664511       1  \n",
              "...             ...         ...                ...     ...  \n",
              "2520     504.759155  500.011441         499.711570       0  \n",
              "2521     501.010959  499.711570         502.010470       1  \n",
              "2522     500.011441  502.010470         501.510728       0  \n",
              "2523     499.711570  501.510728         501.260839       0  \n",
              "2524     502.010470  501.260839         506.008563       1  \n",
              "\n",
              "[2523 rows x 27 columns]"
            ]
          },
          "execution_count": 19,
          "metadata": {},
          "output_type": "execute_result"
        }
      ],
      "source": [
        "df = df.dropna()\n",
        "print(df.shape)\n",
        "df"
      ]
    },
    {
      "cell_type": "code",
      "execution_count": 20,
      "metadata": {},
      "outputs": [
        {
          "data": {
            "text/html": [
              "<div>\n",
              "<style scoped>\n",
              "    .dataframe tbody tr th:only-of-type {\n",
              "        vertical-align: middle;\n",
              "    }\n",
              "\n",
              "    .dataframe tbody tr th {\n",
              "        vertical-align: top;\n",
              "    }\n",
              "\n",
              "    .dataframe thead th {\n",
              "        text-align: right;\n",
              "    }\n",
              "</style>\n",
              "<table border=\"1\" class=\"dataframe\">\n",
              "  <thead>\n",
              "    <tr style=\"text-align: right;\">\n",
              "      <th></th>\n",
              "      <th>RowsWithMissingData</th>\n",
              "      <th>PercentageOfDataset</th>\n",
              "      <th>DataType</th>\n",
              "    </tr>\n",
              "  </thead>\n",
              "  <tbody>\n",
              "  </tbody>\n",
              "</table>\n",
              "</div>"
            ],
            "text/plain": [
              "Empty DataFrame\n",
              "Columns: [RowsWithMissingData, PercentageOfDataset, DataType]\n",
              "Index: []"
            ]
          },
          "execution_count": 20,
          "metadata": {},
          "output_type": "execute_result"
        }
      ],
      "source": [
        "EvaluateMissingData(df)"
      ]
    },
    {
      "cell_type": "markdown",
      "metadata": {},
      "source": [
        "---"
      ]
    },
    {
      "cell_type": "markdown",
      "metadata": {},
      "source": [
        "## Target Imbalance"
      ]
    },
    {
      "cell_type": "markdown",
      "metadata": {},
      "source": [
        "Purpose: Address situations where one class (for binary classification)\n",
        "\n",
        "* Methods:\n",
        "\n",
        "    * Resampling: Either oversample the minority class or undersample the majority class\n",
        "\n",
        "    * SMOTE (Synthetic Minority Over-sampling Technique): Generate synthetic data points for the minority class"
      ]
    },
    {
      "cell_type": "code",
      "execution_count": 21,
      "metadata": {},
      "outputs": [
        {
          "data": {
            "image/png": "[encoded data removed]",
            "text/plain": [
              "<Figure size 1200x500 with 1 Axes>"
            ]
          },
          "metadata": {},
          "output_type": "display_data"
        }
      ],
      "source": [
        "import seaborn as sns\n",
        "import matplotlib.pyplot as plt\n",
        "%matplotlib inline\n",
        "\n",
        "plt.figure(figsize=(12, 5))\n",
        "sns.countplot(data=df, x='target', hue='target', order=df['target'].value_counts().index)\n",
        "plt.xticks(rotation=90)\n",
        "plt.show()"
      ]
    },
    {
      "cell_type": "markdown",
      "metadata": {},
      "source": [
        "---"
      ]
    },
    {
      "cell_type": "markdown",
      "metadata": {},
      "source": [
        "## Split Train and Test Set"
      ]
    },
    {
      "cell_type": "code",
      "execution_count": 22,
      "metadata": {},
      "outputs": [
        {
          "name": "stdout",
          "output_type": "stream",
          "text": [
            "TrainSet shape: (2018, 27) \n",
            "TestSet shape: (505, 27)\n"
          ]
        }
      ],
      "source": [
        "from sklearn.model_selection import train_test_split\n",
        "TrainSet, TestSet, _, __ = train_test_split(\n",
        "                                        df,\n",
        "                                        df['target'],\n",
        "                                        test_size=0.2,\n",
        "                                        random_state=0)\n",
        "\n",
        "print(f\"TrainSet shape: {TrainSet.shape} \\nTestSet shape: {TestSet.shape}\")"
      ]
    },
    {
      "cell_type": "code",
      "execution_count": 23,
      "metadata": {},
      "outputs": [
        {
          "name": "stdout",
          "output_type": "stream",
          "text": [
            "* There are 0 variables with missing data \n",
            "\n"
          ]
        },
        {
          "data": {
            "text/html": [
              "<div>\n",
              "<style scoped>\n",
              "    .dataframe tbody tr th:only-of-type {\n",
              "        vertical-align: middle;\n",
              "    }\n",
              "\n",
              "    .dataframe tbody tr th {\n",
              "        vertical-align: top;\n",
              "    }\n",
              "\n",
              "    .dataframe thead th {\n",
              "        text-align: right;\n",
              "    }\n",
              "</style>\n",
              "<table border=\"1\" class=\"dataframe\">\n",
              "  <thead>\n",
              "    <tr style=\"text-align: right;\">\n",
              "      <th></th>\n",
              "      <th>RowsWithMissingData</th>\n",
              "      <th>PercentageOfDataset</th>\n",
              "      <th>DataType</th>\n",
              "    </tr>\n",
              "  </thead>\n",
              "  <tbody>\n",
              "  </tbody>\n",
              "</table>\n",
              "</div>"
            ],
            "text/plain": [
              "Empty DataFrame\n",
              "Columns: [RowsWithMissingData, PercentageOfDataset, DataType]\n",
              "Index: []"
            ]
          },
          "execution_count": 23,
          "metadata": {},
          "output_type": "execute_result"
        }
      ],
      "source": [
        "df_missing_data = EvaluateMissingData(TrainSet)\n",
        "print(f\"* There are {df_missing_data.shape[0]} variables with missing data \\n\")\n",
        "df_missing_data"
      ]
    },
    {
      "cell_type": "markdown",
      "metadata": {},
      "source": [
        "---"
      ]
    },
    {
      "cell_type": "markdown",
      "metadata": {
        "id": "ltNetd085qHf"
      },
      "source": [
        "## Save Files and Push to Repo"
      ]
    },
    {
      "cell_type": "markdown",
      "metadata": {},
      "source": [
        "Create output directory and save cleaned csv files"
      ]
    },
    {
      "cell_type": "code",
      "execution_count": 24,
      "metadata": {
        "id": "aKlnIozA4eQO",
        "outputId": "fd09bc1f-adb1-4511-f6ce-492a6af570c0"
      },
      "outputs": [
        {
          "name": "stdout",
          "output_type": "stream",
          "text": [
            "[WinError 183] Cannot create a file when that file already exists: 'outputs/datasets/cleaned'\n"
          ]
        }
      ],
      "source": [
        "dir = 'outputs/datasets/cleaned'\n",
        "try:\n",
        "  os.makedirs(name=dir)\n",
        "  print(\"folder created\")\n",
        "except Exception as e:\n",
        "  print(e)"
      ]
    },
    {
      "cell_type": "markdown",
      "metadata": {},
      "source": [
        "## Cleaned Data"
      ]
    },
    {
      "cell_type": "code",
      "execution_count": 25,
      "metadata": {},
      "outputs": [
        {
          "name": "stdout",
          "output_type": "stream",
          "text": [
            "cleaned csv file saved\n"
          ]
        }
      ],
      "source": [
        "df.to_csv(f\"{dir}/phnx_2015_2025.csv\", index=False)\n",
        "print(\"cleaned csv file saved\")"
      ]
    },
    {
      "cell_type": "markdown",
      "metadata": {},
      "source": [
        "## Train Set"
      ]
    },
    {
      "cell_type": "code",
      "execution_count": 26,
      "metadata": {},
      "outputs": [
        {
          "name": "stdout",
          "output_type": "stream",
          "text": [
            "TrainSet csv file saved\n"
          ]
        }
      ],
      "source": [
        "TrainSet.to_csv(f\"{dir}/TrainSetCleaned.csv\", index=False)\n",
        "print(\"TrainSet csv file saved\")"
      ]
    },
    {
      "cell_type": "markdown",
      "metadata": {},
      "source": [
        "## Test Set"
      ]
    },
    {
      "cell_type": "code",
      "execution_count": 27,
      "metadata": {},
      "outputs": [
        {
          "name": "stdout",
          "output_type": "stream",
          "text": [
            "TestSet csv file saved\n"
          ]
        }
      ],
      "source": [
        "TestSet.to_csv(f\"{dir}/TestSetCleaned.csv\", index=False)\n",
        "print(\"TestSet csv file saved\")"
      ]
    }
  ],
  "metadata": {
    "accelerator": "GPU",
    "colab": {
      "name": "Data Practitioner Jupyter Notebook.ipynb",
      "provenance": [],
      "toc_visible": true
    },
    "kernelspec": {
      "display_name": "Python 3",
      "language": "python",
      "name": "python3"
    },
    "language_info": {
      "codemirror_mode": {
        "name": "ipython",
        "version": 3
      },
      "file_extension": ".py",
      "mimetype": "text/x-python",
      "name": "python",
      "nbconvert_exporter": "python",
      "pygments_lexer": "ipython3",
      "version": "3.12.8"
    },
    "orig_nbformat": 2
  },
  "nbformat": 4,
  "nbformat_minor": 2
}
